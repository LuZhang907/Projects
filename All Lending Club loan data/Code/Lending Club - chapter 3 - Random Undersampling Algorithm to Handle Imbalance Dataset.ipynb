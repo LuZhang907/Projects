{
 "cells": [
  {
   "cell_type": "markdown",
   "id": "af1a2b66",
   "metadata": {},
   "source": [
    "<a id=\"0\"></a> <br>\n",
    " # Table of Contents  \n",
    " \n",
    " 1. [Inspiration](#1)     \n",
    " 1. [Data Preprocessing](#2) \n",
    " 1. [Modeling Fitting and Evaluation](#3) \n",
    "    1. [ROC_AUC Curve](#4)\n",
    "    1. [Model Coefficients](#5)\n",
    "    1. [Confusion Matrix](#6)\n",
    "    1. [ROC Curve](#7)\n",
    "    1. [Plot of Precision and Recall Versus the Decision Threshold](#8)\n",
    " 1.[*Template for Creating Random Undersampling (Random) PipeLine](#9)"
   ]
  },
  {
   "cell_type": "markdown",
   "id": "84a500cc",
   "metadata": {},
   "source": [
    "<a id=\"1\"></a> <br>\n",
    "## Inspiration"
   ]
  },
  {
   "cell_type": "markdown",
   "id": "0b3d6c4d",
   "metadata": {},
   "source": [
    "According to the chapter 2 analysis, the dataset is extremely unbalanced, with 49736 charge-off records and 229791 Fully Paid records. As is well known, the objective of this initiative is to train a Machine Learning (ML) model to accurately detect \"charge-off\" cases in order to control business risk. Under such backgraound, disgarding samples of \"Fully Paid\" and creating a balanced dataset maybe be beneficial to training an ML alrogrithm.\n",
    "\n",
    "There are numerous undersampling techniques, with random undersampling being the most straightforward. However, the primary disadvantage of random undersampling is that it can disregard potentially useful data that could be crucial for algorithm training. To generate a balanced data set, There are three major undersampling techniques based on https://machinelearningmastery.com/undersampling-algorithms-for-imbalanced-classification/. However, due to the limited memory of personal computers, intricate procedures will be temporarily suspended. As a demonstration for this chapter, we will use **random** undersampling to generate a balanced dataset.\n",
    "\n",
    "* Methods that Select Examples to Keep\n",
    "  - Random Undersampling \n",
    "  - Near Missing(NM) Undersampling\n",
    "  - Conddensed Nearest Neighbor Rule (CNNR) for Undersampling\n",
    " \n",
    "* Methods that select Examples to Delete\n",
    "  - Tomek Links (TL) for Undersampling\n",
    "  - Edited Nearest Neighbors Rule (ENNR) for Undersampling\n",
    "\n",
    "* Combinations of Keep and Delete Methods\n",
    "  - One-Sided Selection (OSS) for Undersampling\n",
    "  - Neighborhood Cleaning Rule (NCR) for Undersampling\n",
    "  \n"
   ]
  },
  {
   "cell_type": "markdown",
   "id": "a2cfe5d1",
   "metadata": {},
   "source": [
    "<a id=\"2\"></a> <br>\n",
    " ## Package Set up and Data Input"
   ]
  },
  {
   "cell_type": "code",
   "execution_count": 1,
   "id": "c0d01d17",
   "metadata": {},
   "outputs": [],
   "source": [
    "import os\n",
    "import pandas as pd\n",
    "import numpy as np\n",
    "\n",
    "from sklearn.preprocessing import OneHotEncoder, StandardScaler\n",
    "from sklearn.model_selection import train_test_split\n",
    "from sklearn.pipeline import Pipeline\n",
    "from sklearn.compose import ColumnTransformer\n",
    "from sklearn.linear_model import LogisticRegression\n",
    "from sklearn.metrics import roc_auc_score,  roc_curve\n",
    "from sklearn.metrics import precision_recall_curve\n",
    "from sklearn import metrics\n",
    "from sklearn.metrics import classification_report\n",
    "\n",
    "from sklearn.model_selection import cross_val_score\n",
    "from sklearn.model_selection import RepeatedStratifiedKFold\n",
    "\n",
    "#import matplotlib.pyplot as plt\n",
    "#bimport seaborn as sns\n",
    "\n",
    "import imblearn\n",
    "from imblearn.under_sampling import RandomUnderSampler\n",
    "#from imblearn.under_sampling import CondensedNearestNeighbour\n",
    "#from imblearn.pipeline import Pipeline as imbPipeline\n",
    "\n",
    "%run functions.ipynb"
   ]
  },
  {
   "cell_type": "code",
   "execution_count": 2,
   "id": "578adad2",
   "metadata": {
    "scrolled": false
   },
   "outputs": [
    {
     "data": {
      "text/plain": [
       "Unnamed: 0              0\n",
       "loan_status             0\n",
       "term                    0\n",
       "grade                   0\n",
       "emp_length              0\n",
       "home_ownership          0\n",
       "verification_status     0\n",
       "purpose                 0\n",
       "addr_state              0\n",
       "initial_list_status     0\n",
       "application_type        0\n",
       "loan_amnt               0\n",
       "int_rate                0\n",
       "installment             0\n",
       "annual_inc              0\n",
       "dti                     0\n",
       "open_acc                0\n",
       "pub_rec                 0\n",
       "revol_util              0\n",
       "total_acc               0\n",
       "mort_acc                0\n",
       "pub_rec_bankruptcies    0\n",
       "last_fico_range_low     0\n",
       "last_fico_range_high    0\n",
       "dtype: int64"
      ]
     },
     "execution_count": 2,
     "metadata": {},
     "output_type": "execute_result"
    }
   ],
   "source": [
    "data = pd.read_csv(\"../Data/data_selected.csv\")\n",
    "data = pd.DataFrame(data)\n",
    "data = data.dropna() # drop na\n",
    "data.isnull().sum() # check the na"
   ]
  },
  {
   "cell_type": "code",
   "execution_count": 3,
   "id": "48f4632f",
   "metadata": {
    "scrolled": true
   },
   "outputs": [
    {
     "data": {
      "text/plain": [
       "Fully Paid     919547\n",
       "Charged Off    198560\n",
       "Name: loan_status, dtype: int64"
      ]
     },
     "execution_count": 3,
     "metadata": {},
     "output_type": "execute_result"
    }
   ],
   "source": [
    "data[\"loan_status\"].value_counts()"
   ]
  },
  {
   "cell_type": "code",
   "execution_count": 4,
   "id": "0b5d914a",
   "metadata": {},
   "outputs": [
    {
     "data": {
      "text/html": [
       "<div>\n",
       "<style scoped>\n",
       "    .dataframe tbody tr th:only-of-type {\n",
       "        vertical-align: middle;\n",
       "    }\n",
       "\n",
       "    .dataframe tbody tr th {\n",
       "        vertical-align: top;\n",
       "    }\n",
       "\n",
       "    .dataframe thead th {\n",
       "        text-align: right;\n",
       "    }\n",
       "</style>\n",
       "<table border=\"1\" class=\"dataframe\">\n",
       "  <thead>\n",
       "    <tr style=\"text-align: right;\">\n",
       "      <th></th>\n",
       "      <th>Unnamed: 0</th>\n",
       "      <th>loan_status</th>\n",
       "      <th>term</th>\n",
       "      <th>grade</th>\n",
       "      <th>emp_length</th>\n",
       "      <th>home_ownership</th>\n",
       "      <th>verification_status</th>\n",
       "      <th>purpose</th>\n",
       "      <th>addr_state</th>\n",
       "      <th>initial_list_status</th>\n",
       "      <th>...</th>\n",
       "      <th>annual_inc</th>\n",
       "      <th>dti</th>\n",
       "      <th>open_acc</th>\n",
       "      <th>pub_rec</th>\n",
       "      <th>revol_util</th>\n",
       "      <th>total_acc</th>\n",
       "      <th>mort_acc</th>\n",
       "      <th>pub_rec_bankruptcies</th>\n",
       "      <th>last_fico_range_low</th>\n",
       "      <th>last_fico_range_high</th>\n",
       "    </tr>\n",
       "  </thead>\n",
       "  <tbody>\n",
       "    <tr>\n",
       "      <th>0</th>\n",
       "      <td>0</td>\n",
       "      <td>0</td>\n",
       "      <td>36 months</td>\n",
       "      <td>C</td>\n",
       "      <td>10+ years</td>\n",
       "      <td>MORTGAGE</td>\n",
       "      <td>Not Verified</td>\n",
       "      <td>debt_consolidation</td>\n",
       "      <td>PA</td>\n",
       "      <td>w</td>\n",
       "      <td>...</td>\n",
       "      <td>55000.0</td>\n",
       "      <td>5.91</td>\n",
       "      <td>7.0</td>\n",
       "      <td>0.0</td>\n",
       "      <td>29.7</td>\n",
       "      <td>13.0</td>\n",
       "      <td>1.0</td>\n",
       "      <td>0.0</td>\n",
       "      <td>560.0</td>\n",
       "      <td>564.0</td>\n",
       "    </tr>\n",
       "    <tr>\n",
       "      <th>1</th>\n",
       "      <td>1</td>\n",
       "      <td>0</td>\n",
       "      <td>36 months</td>\n",
       "      <td>C</td>\n",
       "      <td>10+ years</td>\n",
       "      <td>MORTGAGE</td>\n",
       "      <td>Not Verified</td>\n",
       "      <td>small_business</td>\n",
       "      <td>SD</td>\n",
       "      <td>w</td>\n",
       "      <td>...</td>\n",
       "      <td>65000.0</td>\n",
       "      <td>16.06</td>\n",
       "      <td>22.0</td>\n",
       "      <td>0.0</td>\n",
       "      <td>19.2</td>\n",
       "      <td>38.0</td>\n",
       "      <td>4.0</td>\n",
       "      <td>0.0</td>\n",
       "      <td>695.0</td>\n",
       "      <td>699.0</td>\n",
       "    </tr>\n",
       "    <tr>\n",
       "      <th>2</th>\n",
       "      <td>2</td>\n",
       "      <td>0</td>\n",
       "      <td>60 months</td>\n",
       "      <td>B</td>\n",
       "      <td>10+ years</td>\n",
       "      <td>MORTGAGE</td>\n",
       "      <td>Not Verified</td>\n",
       "      <td>home_improvement</td>\n",
       "      <td>IL</td>\n",
       "      <td>w</td>\n",
       "      <td>...</td>\n",
       "      <td>63000.0</td>\n",
       "      <td>10.78</td>\n",
       "      <td>6.0</td>\n",
       "      <td>0.0</td>\n",
       "      <td>56.2</td>\n",
       "      <td>18.0</td>\n",
       "      <td>5.0</td>\n",
       "      <td>0.0</td>\n",
       "      <td>700.0</td>\n",
       "      <td>704.0</td>\n",
       "    </tr>\n",
       "    <tr>\n",
       "      <th>3</th>\n",
       "      <td>4</td>\n",
       "      <td>0</td>\n",
       "      <td>60 months</td>\n",
       "      <td>F</td>\n",
       "      <td>3 years</td>\n",
       "      <td>MORTGAGE</td>\n",
       "      <td>Source Verified</td>\n",
       "      <td>major_purchase</td>\n",
       "      <td>PA</td>\n",
       "      <td>w</td>\n",
       "      <td>...</td>\n",
       "      <td>104433.0</td>\n",
       "      <td>25.37</td>\n",
       "      <td>12.0</td>\n",
       "      <td>0.0</td>\n",
       "      <td>64.5</td>\n",
       "      <td>35.0</td>\n",
       "      <td>6.0</td>\n",
       "      <td>0.0</td>\n",
       "      <td>700.0</td>\n",
       "      <td>704.0</td>\n",
       "    </tr>\n",
       "    <tr>\n",
       "      <th>4</th>\n",
       "      <td>5</td>\n",
       "      <td>0</td>\n",
       "      <td>36 months</td>\n",
       "      <td>C</td>\n",
       "      <td>4 years</td>\n",
       "      <td>RENT</td>\n",
       "      <td>Source Verified</td>\n",
       "      <td>debt_consolidation</td>\n",
       "      <td>GA</td>\n",
       "      <td>w</td>\n",
       "      <td>...</td>\n",
       "      <td>34000.0</td>\n",
       "      <td>10.20</td>\n",
       "      <td>5.0</td>\n",
       "      <td>0.0</td>\n",
       "      <td>68.4</td>\n",
       "      <td>6.0</td>\n",
       "      <td>0.0</td>\n",
       "      <td>0.0</td>\n",
       "      <td>755.0</td>\n",
       "      <td>759.0</td>\n",
       "    </tr>\n",
       "    <tr>\n",
       "      <th>...</th>\n",
       "      <td>...</td>\n",
       "      <td>...</td>\n",
       "      <td>...</td>\n",
       "      <td>...</td>\n",
       "      <td>...</td>\n",
       "      <td>...</td>\n",
       "      <td>...</td>\n",
       "      <td>...</td>\n",
       "      <td>...</td>\n",
       "      <td>...</td>\n",
       "      <td>...</td>\n",
       "      <td>...</td>\n",
       "      <td>...</td>\n",
       "      <td>...</td>\n",
       "      <td>...</td>\n",
       "      <td>...</td>\n",
       "      <td>...</td>\n",
       "      <td>...</td>\n",
       "      <td>...</td>\n",
       "      <td>...</td>\n",
       "      <td>...</td>\n",
       "    </tr>\n",
       "    <tr>\n",
       "      <th>1187924</th>\n",
       "      <td>2260685</td>\n",
       "      <td>1</td>\n",
       "      <td>60 months</td>\n",
       "      <td>C</td>\n",
       "      <td>5 years</td>\n",
       "      <td>RENT</td>\n",
       "      <td>Verified</td>\n",
       "      <td>credit_card</td>\n",
       "      <td>CA</td>\n",
       "      <td>f</td>\n",
       "      <td>...</td>\n",
       "      <td>95000.0</td>\n",
       "      <td>21.50</td>\n",
       "      <td>11.0</td>\n",
       "      <td>0.0</td>\n",
       "      <td>79.8</td>\n",
       "      <td>24.0</td>\n",
       "      <td>6.0</td>\n",
       "      <td>0.0</td>\n",
       "      <td>550.0</td>\n",
       "      <td>554.0</td>\n",
       "    </tr>\n",
       "    <tr>\n",
       "      <th>1187925</th>\n",
       "      <td>2260686</td>\n",
       "      <td>0</td>\n",
       "      <td>60 months</td>\n",
       "      <td>C</td>\n",
       "      <td>10+ years</td>\n",
       "      <td>MORTGAGE</td>\n",
       "      <td>Not Verified</td>\n",
       "      <td>debt_consolidation</td>\n",
       "      <td>OH</td>\n",
       "      <td>f</td>\n",
       "      <td>...</td>\n",
       "      <td>119000.0</td>\n",
       "      <td>32.73</td>\n",
       "      <td>13.0</td>\n",
       "      <td>0.0</td>\n",
       "      <td>89.5</td>\n",
       "      <td>29.0</td>\n",
       "      <td>5.0</td>\n",
       "      <td>0.0</td>\n",
       "      <td>675.0</td>\n",
       "      <td>679.0</td>\n",
       "    </tr>\n",
       "    <tr>\n",
       "      <th>1187926</th>\n",
       "      <td>2260688</td>\n",
       "      <td>0</td>\n",
       "      <td>60 months</td>\n",
       "      <td>B</td>\n",
       "      <td>5 years</td>\n",
       "      <td>OWN</td>\n",
       "      <td>Not Verified</td>\n",
       "      <td>home_improvement</td>\n",
       "      <td>TX</td>\n",
       "      <td>f</td>\n",
       "      <td>...</td>\n",
       "      <td>130000.0</td>\n",
       "      <td>20.59</td>\n",
       "      <td>17.0</td>\n",
       "      <td>0.0</td>\n",
       "      <td>34.0</td>\n",
       "      <td>39.0</td>\n",
       "      <td>3.0</td>\n",
       "      <td>0.0</td>\n",
       "      <td>705.0</td>\n",
       "      <td>709.0</td>\n",
       "    </tr>\n",
       "    <tr>\n",
       "      <th>1187927</th>\n",
       "      <td>2260690</td>\n",
       "      <td>0</td>\n",
       "      <td>60 months</td>\n",
       "      <td>C</td>\n",
       "      <td>9 years</td>\n",
       "      <td>MORTGAGE</td>\n",
       "      <td>Not Verified</td>\n",
       "      <td>debt_consolidation</td>\n",
       "      <td>CA</td>\n",
       "      <td>f</td>\n",
       "      <td>...</td>\n",
       "      <td>180792.0</td>\n",
       "      <td>22.03</td>\n",
       "      <td>16.0</td>\n",
       "      <td>0.0</td>\n",
       "      <td>85.2</td>\n",
       "      <td>32.0</td>\n",
       "      <td>3.0</td>\n",
       "      <td>0.0</td>\n",
       "      <td>715.0</td>\n",
       "      <td>719.0</td>\n",
       "    </tr>\n",
       "    <tr>\n",
       "      <th>1187928</th>\n",
       "      <td>2260697</td>\n",
       "      <td>1</td>\n",
       "      <td>60 months</td>\n",
       "      <td>C</td>\n",
       "      <td>6 years</td>\n",
       "      <td>RENT</td>\n",
       "      <td>Not Verified</td>\n",
       "      <td>debt_consolidation</td>\n",
       "      <td>FL</td>\n",
       "      <td>f</td>\n",
       "      <td>...</td>\n",
       "      <td>110000.0</td>\n",
       "      <td>18.30</td>\n",
       "      <td>10.0</td>\n",
       "      <td>1.0</td>\n",
       "      <td>68.1</td>\n",
       "      <td>31.0</td>\n",
       "      <td>2.0</td>\n",
       "      <td>1.0</td>\n",
       "      <td>590.0</td>\n",
       "      <td>594.0</td>\n",
       "    </tr>\n",
       "  </tbody>\n",
       "</table>\n",
       "<p>1118107 rows × 24 columns</p>\n",
       "</div>"
      ],
      "text/plain": [
       "         Unnamed: 0  loan_status        term grade emp_length home_ownership  \\\n",
       "0                 0            0   36 months     C  10+ years       MORTGAGE   \n",
       "1                 1            0   36 months     C  10+ years       MORTGAGE   \n",
       "2                 2            0   60 months     B  10+ years       MORTGAGE   \n",
       "3                 4            0   60 months     F    3 years       MORTGAGE   \n",
       "4                 5            0   36 months     C    4 years           RENT   \n",
       "...             ...          ...         ...   ...        ...            ...   \n",
       "1187924     2260685            1   60 months     C    5 years           RENT   \n",
       "1187925     2260686            0   60 months     C  10+ years       MORTGAGE   \n",
       "1187926     2260688            0   60 months     B    5 years            OWN   \n",
       "1187927     2260690            0   60 months     C    9 years       MORTGAGE   \n",
       "1187928     2260697            1   60 months     C    6 years           RENT   \n",
       "\n",
       "        verification_status             purpose addr_state  \\\n",
       "0              Not Verified  debt_consolidation         PA   \n",
       "1              Not Verified      small_business         SD   \n",
       "2              Not Verified    home_improvement         IL   \n",
       "3           Source Verified      major_purchase         PA   \n",
       "4           Source Verified  debt_consolidation         GA   \n",
       "...                     ...                 ...        ...   \n",
       "1187924            Verified         credit_card         CA   \n",
       "1187925        Not Verified  debt_consolidation         OH   \n",
       "1187926        Not Verified    home_improvement         TX   \n",
       "1187927        Not Verified  debt_consolidation         CA   \n",
       "1187928        Not Verified  debt_consolidation         FL   \n",
       "\n",
       "        initial_list_status  ... annual_inc    dti  open_acc  pub_rec  \\\n",
       "0                         w  ...    55000.0   5.91       7.0      0.0   \n",
       "1                         w  ...    65000.0  16.06      22.0      0.0   \n",
       "2                         w  ...    63000.0  10.78       6.0      0.0   \n",
       "3                         w  ...   104433.0  25.37      12.0      0.0   \n",
       "4                         w  ...    34000.0  10.20       5.0      0.0   \n",
       "...                     ...  ...        ...    ...       ...      ...   \n",
       "1187924                   f  ...    95000.0  21.50      11.0      0.0   \n",
       "1187925                   f  ...   119000.0  32.73      13.0      0.0   \n",
       "1187926                   f  ...   130000.0  20.59      17.0      0.0   \n",
       "1187927                   f  ...   180792.0  22.03      16.0      0.0   \n",
       "1187928                   f  ...   110000.0  18.30      10.0      1.0   \n",
       "\n",
       "         revol_util  total_acc  mort_acc  pub_rec_bankruptcies  \\\n",
       "0              29.7       13.0       1.0                   0.0   \n",
       "1              19.2       38.0       4.0                   0.0   \n",
       "2              56.2       18.0       5.0                   0.0   \n",
       "3              64.5       35.0       6.0                   0.0   \n",
       "4              68.4        6.0       0.0                   0.0   \n",
       "...             ...        ...       ...                   ...   \n",
       "1187924        79.8       24.0       6.0                   0.0   \n",
       "1187925        89.5       29.0       5.0                   0.0   \n",
       "1187926        34.0       39.0       3.0                   0.0   \n",
       "1187927        85.2       32.0       3.0                   0.0   \n",
       "1187928        68.1       31.0       2.0                   1.0   \n",
       "\n",
       "         last_fico_range_low  last_fico_range_high  \n",
       "0                      560.0                 564.0  \n",
       "1                      695.0                 699.0  \n",
       "2                      700.0                 704.0  \n",
       "3                      700.0                 704.0  \n",
       "4                      755.0                 759.0  \n",
       "...                      ...                   ...  \n",
       "1187924                550.0                 554.0  \n",
       "1187925                675.0                 679.0  \n",
       "1187926                705.0                 709.0  \n",
       "1187927                715.0                 719.0  \n",
       "1187928                590.0                 594.0  \n",
       "\n",
       "[1118107 rows x 24 columns]"
      ]
     },
     "execution_count": 4,
     "metadata": {},
     "output_type": "execute_result"
    }
   ],
   "source": [
    "# covert catergocial to dummy, treat charged off as positive instance\n",
    "loan_status = pd.get_dummies(data[\"loan_status\"])\n",
    "data[\"loan_status\"] = loan_status[\"Charged Off\"] # 0-full paid, 1-charged off \n",
    "data"
   ]
  },
  {
   "cell_type": "markdown",
   "id": "f757d850",
   "metadata": {},
   "source": [
    "<a id=\"2\"></a> <br>\n",
    "## Data Preprocessing"
   ]
  },
  {
   "cell_type": "code",
   "execution_count": 5,
   "id": "9a133ffd",
   "metadata": {
    "scrolled": true
   },
   "outputs": [],
   "source": [
    "y = data.loan_status\n",
    "X = data.drop([\"loan_status\", 'Unnamed: 0'], axis =1)\n",
    "\n",
    "X_under, y_under = RandomUnderSampler().fit_resample(X,y)\n",
    "\n",
    "X_train, X_test, y_train, y_test = train_test_split(X_under, y_under, random_state = 666, test_size = 0.25, shuffle = True)"
   ]
  },
  {
   "cell_type": "code",
   "execution_count": 29,
   "id": "2375d9e5",
   "metadata": {},
   "outputs": [],
   "source": [
    "# save undersampled data to csv file\n",
    "#data_undersampled = X_under.copy()\n",
    "#data_undersampled[\"loan_status\"] = y_under\n",
    "#data_undersampled.to_csv(\"../Data/data_selected_undersampled.csv\", header = True, index = False)"
   ]
  },
  {
   "cell_type": "code",
   "execution_count": 6,
   "id": "53662a46",
   "metadata": {
    "scrolled": false
   },
   "outputs": [
    {
     "data": {
      "text/plain": [
       "1    148973\n",
       "0    148867\n",
       "Name: loan_status, dtype: int64"
      ]
     },
     "execution_count": 6,
     "metadata": {},
     "output_type": "execute_result"
    }
   ],
   "source": [
    "y_train.value_counts()"
   ]
  },
  {
   "cell_type": "code",
   "execution_count": 7,
   "id": "768f3d6b",
   "metadata": {},
   "outputs": [
    {
     "data": {
      "text/plain": [
       "0    49693\n",
       "1    49587\n",
       "Name: loan_status, dtype: int64"
      ]
     },
     "execution_count": 7,
     "metadata": {},
     "output_type": "execute_result"
    }
   ],
   "source": [
    "y_test.value_counts()"
   ]
  },
  {
   "cell_type": "code",
   "execution_count": 8,
   "id": "90ea6873",
   "metadata": {},
   "outputs": [],
   "source": [
    "numeric_features = ['int_rate',\n",
    "       'installment', 'annual_inc', 'dti', 'open_acc', 'pub_rec', 'revol_util',\n",
    "       'total_acc', 'mort_acc', 'pub_rec_bankruptcies', 'last_fico_range_low',\n",
    "       'last_fico_range_high']\n",
    "categorical_features = ['term', 'grade', 'emp_length',\n",
    "       'home_ownership', 'verification_status', 'purpose', 'addr_state',\n",
    "       'initial_list_status', 'application_type']"
   ]
  },
  {
   "cell_type": "code",
   "execution_count": 9,
   "id": "c624b6bf",
   "metadata": {},
   "outputs": [],
   "source": [
    "categorical_transformer = Pipeline(steps =[\n",
    "    ('onehot',OneHotEncoder(drop = \"first\"))\n",
    "])\n",
    "\n",
    "numeric_transformer = Pipeline(steps =[\n",
    "    (\"scale\", StandardScaler())\n",
    "])\n",
    "\n",
    "preprocessor = ColumnTransformer(\n",
    "    transformers = [\n",
    "        ('num', numeric_transformer, numeric_features),\n",
    "        ('cat', categorical_transformer, categorical_features)\n",
    "    ]\n",
    ")"
   ]
  },
  {
   "cell_type": "code",
   "execution_count": 10,
   "id": "282d0895",
   "metadata": {},
   "outputs": [],
   "source": [
    "log_model = LogisticRegression(solver = \"lbfgs\", max_iter = 500)\n",
    "pipeline = Pipeline(steps = [\n",
    "    (\"preprocessor\", preprocessor),\n",
    "    (\"log_model\", log_model)\n",
    "])"
   ]
  },
  {
   "cell_type": "markdown",
   "id": "b3c05730",
   "metadata": {},
   "source": [
    "<a id=\"3\"></a> <br>\n",
    "## Model fitting and Evaluation"
   ]
  },
  {
   "cell_type": "code",
   "execution_count": 11,
   "id": "8eaf6307",
   "metadata": {},
   "outputs": [],
   "source": [
    "fitted_pipeline = pipeline.fit(X_train, y_train)"
   ]
  },
  {
   "cell_type": "markdown",
   "id": "c109b39e",
   "metadata": {},
   "source": [
    "<a id=\"4\"></a> <br>\n",
    "## ROC_AUC score"
   ]
  },
  {
   "cell_type": "code",
   "execution_count": 12,
   "id": "7483d95a",
   "metadata": {},
   "outputs": [],
   "source": [
    "y_train_pred = fitted_pipeline.predict(X_train)\n",
    "y_test_pred = fitted_pipeline.predict(X_test)\n",
    "\n",
    "\n",
    "train_auc = roc_auc_score(y_train, y_train_pred)\n",
    "test_auc = roc_auc_score(y_test, y_test_pred)"
   ]
  },
  {
   "cell_type": "code",
   "execution_count": 13,
   "id": "eae714ea",
   "metadata": {
    "scrolled": false
   },
   "outputs": [
    {
     "name": "stdout",
     "output_type": "stream",
     "text": [
      "train_auc:  0.8937 test_auc:  0.8939\n"
     ]
    }
   ],
   "source": [
    "print(\"train_auc: \", round(train_auc,4),\"test_auc: \", round(test_auc,4))"
   ]
  },
  {
   "cell_type": "markdown",
   "id": "b87bae80",
   "metadata": {},
   "source": [
    "<a id=\"5\"></a> <br>\n",
    "## Model Coefficents"
   ]
  },
  {
   "cell_type": "code",
   "execution_count": 16,
   "id": "b7519de4",
   "metadata": {},
   "outputs": [],
   "source": [
    "cat_onehot = pipeline.named_steps['preprocessor'].named_transformers_['cat'].named_steps['onehot'].get_feature_names_out(input_features = categorical_features)\n",
    "col_names = list(numeric_features)+list(cat_onehot)\n",
    "all_col_names = ['Constant']+col_names\n",
    "all_coef = np.hstack((log_model.intercept_[0],log_model.coef_[0]))\n",
    "model_coef = pd.DataFrame({'features':all_col_names,'coef':all_coef,})"
   ]
  },
  {
   "cell_type": "code",
   "execution_count": 17,
   "id": "ef43693c",
   "metadata": {
    "scrolled": true
   },
   "outputs": [
    {
     "data": {
      "text/html": [
       "<div>\n",
       "<style scoped>\n",
       "    .dataframe tbody tr th:only-of-type {\n",
       "        vertical-align: middle;\n",
       "    }\n",
       "\n",
       "    .dataframe tbody tr th {\n",
       "        vertical-align: top;\n",
       "    }\n",
       "\n",
       "    .dataframe thead th {\n",
       "        text-align: right;\n",
       "    }\n",
       "</style>\n",
       "<table border=\"1\" class=\"dataframe\">\n",
       "  <thead>\n",
       "    <tr style=\"text-align: right;\">\n",
       "      <th></th>\n",
       "      <th>features</th>\n",
       "      <th>coef</th>\n",
       "    </tr>\n",
       "  </thead>\n",
       "  <tbody>\n",
       "    <tr>\n",
       "      <th>0</th>\n",
       "      <td>Constant</td>\n",
       "      <td>-0.243154</td>\n",
       "    </tr>\n",
       "    <tr>\n",
       "      <th>1</th>\n",
       "      <td>int_rate</td>\n",
       "      <td>0.034296</td>\n",
       "    </tr>\n",
       "    <tr>\n",
       "      <th>2</th>\n",
       "      <td>installment</td>\n",
       "      <td>0.363665</td>\n",
       "    </tr>\n",
       "    <tr>\n",
       "      <th>3</th>\n",
       "      <td>annual_inc</td>\n",
       "      <td>-0.129011</td>\n",
       "    </tr>\n",
       "    <tr>\n",
       "      <th>4</th>\n",
       "      <td>dti</td>\n",
       "      <td>0.190557</td>\n",
       "    </tr>\n",
       "    <tr>\n",
       "      <th>...</th>\n",
       "      <td>...</td>\n",
       "      <td>...</td>\n",
       "    </tr>\n",
       "    <tr>\n",
       "      <th>95</th>\n",
       "      <td>addr_state_WI</td>\n",
       "      <td>0.133323</td>\n",
       "    </tr>\n",
       "    <tr>\n",
       "      <th>96</th>\n",
       "      <td>addr_state_WV</td>\n",
       "      <td>-0.112633</td>\n",
       "    </tr>\n",
       "    <tr>\n",
       "      <th>97</th>\n",
       "      <td>addr_state_WY</td>\n",
       "      <td>-0.019308</td>\n",
       "    </tr>\n",
       "    <tr>\n",
       "      <th>98</th>\n",
       "      <td>initial_list_status_w</td>\n",
       "      <td>-0.026997</td>\n",
       "    </tr>\n",
       "    <tr>\n",
       "      <th>99</th>\n",
       "      <td>application_type_Joint App</td>\n",
       "      <td>0.706056</td>\n",
       "    </tr>\n",
       "  </tbody>\n",
       "</table>\n",
       "<p>100 rows × 2 columns</p>\n",
       "</div>"
      ],
      "text/plain": [
       "                      features      coef\n",
       "0                     Constant -0.243154\n",
       "1                     int_rate  0.034296\n",
       "2                  installment  0.363665\n",
       "3                   annual_inc -0.129011\n",
       "4                          dti  0.190557\n",
       "..                         ...       ...\n",
       "95               addr_state_WI  0.133323\n",
       "96               addr_state_WV -0.112633\n",
       "97               addr_state_WY -0.019308\n",
       "98       initial_list_status_w -0.026997\n",
       "99  application_type_Joint App  0.706056\n",
       "\n",
       "[100 rows x 2 columns]"
      ]
     },
     "execution_count": 17,
     "metadata": {},
     "output_type": "execute_result"
    }
   ],
   "source": [
    "model_coef"
   ]
  },
  {
   "cell_type": "markdown",
   "id": "a44804a1",
   "metadata": {},
   "source": [
    "<a id=\"6\"></a> <br>\n",
    "### Confusion Matrix"
   ]
  },
  {
   "cell_type": "code",
   "execution_count": 18,
   "id": "75107419",
   "metadata": {},
   "outputs": [
    {
     "data": {
      "text/plain": [
       "array([[44400,  5293],\n",
       "       [ 5244, 44343]])"
      ]
     },
     "execution_count": 18,
     "metadata": {},
     "output_type": "execute_result"
    }
   ],
   "source": [
    "cnf_matrix = metrics.confusion_matrix(y_test,y_test_pred)\n",
    "cnf_matrix"
   ]
  },
  {
   "cell_type": "code",
   "execution_count": 19,
   "id": "69544905",
   "metadata": {
    "scrolled": true
   },
   "outputs": [
    {
     "data": {
      "image/png": "[encoded data removed]",
      "text/plain": [
       "<Figure size 432x288 with 2 Axes>"
      ]
     },
     "metadata": {
      "needs_background": "light"
     },
     "output_type": "display_data"
    }
   ],
   "source": [
    "confusion_metrix_vis(cnf_matrix)"
   ]
  },
  {
   "cell_type": "code",
   "execution_count": 21,
   "id": "18c56d68",
   "metadata": {
    "scrolled": false
   },
   "outputs": [
    {
     "name": "stdout",
     "output_type": "stream",
     "text": [
      "              precision    recall  f1-score   support\n",
      "\n",
      "  Fully Paid       0.89      0.89      0.89     49693\n",
      "  Charge-off       0.89      0.89      0.89     49587\n",
      "\n",
      "    accuracy                           0.89     99280\n",
      "   macro avg       0.89      0.89      0.89     99280\n",
      "weighted avg       0.89      0.89      0.89     99280\n",
      "\n"
     ]
    }
   ],
   "source": [
    "target_names = ['Fully Paid','Charge-off']\n",
    "print(classification_report(y_test, y_test_pred, target_names=target_names))"
   ]
  },
  {
   "cell_type": "markdown",
   "id": "2d3074d7",
   "metadata": {},
   "source": [
    "<a id=\"7\"></a> <br>\n",
    "### ROC_Curve"
   ]
  },
  {
   "cell_type": "code",
   "execution_count": 23,
   "id": "afc73574",
   "metadata": {
    "scrolled": true
   },
   "outputs": [
    {
     "data": {
      "image/png": "[encoded data removed]",
      "text/plain": [
       "<Figure size 432x288 with 1 Axes>"
      ]
     },
     "metadata": {
      "needs_background": "light"
     },
     "output_type": "display_data"
    }
   ],
   "source": [
    "fpr, tpr, thresholds = roc_curve(y_test, y_test_pred)\n",
    "plot_roc_curve(fpr,tpr)"
   ]
  },
  {
   "cell_type": "markdown",
   "id": "c70ec901",
   "metadata": {},
   "source": [
    "<a id=\"8\"></a> <br>\n",
    "### Plot of Precision and Recall Versus the Decision Threshold"
   ]
  },
  {
   "cell_type": "code",
   "execution_count": 25,
   "id": "38d86f08",
   "metadata": {},
   "outputs": [
    {
     "data": {
      "image/png": "[encoded data removed]",
      "text/plain": [
       "<Figure size 432x288 with 1 Axes>"
      ]
     },
     "metadata": {
      "needs_background": "light"
     },
     "output_type": "display_data"
    }
   ],
   "source": [
    "precisions, recalls, thresholds = precision_recall_curve(y_test, y_test_pred)\n",
    "plot_precision_recall_vs_threshold(precisions, recalls, thresholds)"
   ]
  },
  {
   "cell_type": "markdown",
   "id": "03540f41",
   "metadata": {},
   "source": [
    "<a id=\"9\"></a> <br>\n",
    "## *Template for Creating Random Undersampling (Random) PipeLine"
   ]
  },
  {
   "cell_type": "code",
   "execution_count": 42,
   "id": "bcc7962a",
   "metadata": {},
   "outputs": [],
   "source": [
    "#random_undersampling = RandomUnderSampler()\n",
    "#log_model = LogisticRegression(solver = \"lbfgs\", max_iter = 500)\n",
    "\n",
    "#pipeline_random = imbPipeline(steps = [\n",
    "#    (\"preprocessor\", preprocessor),\n",
    "#    (\"random\", random_undersampling),\n",
    "#    (\"log_model\", log_model)\n",
    "#])"
   ]
  },
  {
   "cell_type": "code",
   "execution_count": 43,
   "id": "c809f617",
   "metadata": {},
   "outputs": [],
   "source": [
    "#cv = RepeatedStratifiedKFold(n_splits = 2, n_repeats = 1, random_state = 666)\n",
    "#scores_random = cross_val_score(pipeline_random, X, y, scoring=\"recall\", cv = cv, n_jobs = -1)"
   ]
  },
  {
   "cell_type": "code",
   "execution_count": 44,
   "id": "c0f40b2b",
   "metadata": {
    "scrolled": true
   },
   "outputs": [],
   "source": [
    "#print(\"Recall for Random Undersampling Method: \", round(np.nanmean(scores_random),4))"
   ]
  }
 ],
 "metadata": {
  "kernelspec": {
   "display_name": "Python 3 (ipykernel)",
   "language": "python",
   "name": "python3"
  },
  "language_info": {
   "codemirror_mode": {
    "name": "ipython",
    "version": 3
   },
   "file_extension": ".py",
   "mimetype": "text/x-python",
   "name": "python",
   "nbconvert_exporter": "python",
   "pygments_lexer": "ipython3",
   "version": "3.8.3"
  }
 },
 "nbformat": 4,
 "nbformat_minor": 5
}
