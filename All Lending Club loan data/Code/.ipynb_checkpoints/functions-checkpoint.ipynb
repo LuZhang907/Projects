{
 "cells": [
  {
   "cell_type": "code",
   "execution_count": 5,
   "id": "7cbdd286",
   "metadata": {},
   "outputs": [],
   "source": [
    "from matplotlib import pyplot as plt"
   ]
  },
  {
   "cell_type": "code",
   "execution_count": 6,
   "id": "d26106f5",
   "metadata": {},
   "outputs": [],
   "source": [
    "def addlabels(x,y):\n",
    "    for i in range(len(x)):\n",
    "        plt.text(i, y[i], y[i], ha = 'center')"
   ]
  },
  {
   "cell_type": "code",
   "execution_count": 7,
   "id": "4eb958a4",
   "metadata": {},
   "outputs": [],
   "source": [
    "def frequency_table(x,str_name):\n",
    "    freqt = x.value_counts()\n",
    "    freqt = pd.DataFrame(freqt).reset_index()\n",
    "    freqt.columns = [str_name,\"frequency\"]\n",
    "    return freqt"
   ]
  },
  {
   "cell_type": "code",
   "execution_count": 8,
   "id": "0794c806",
   "metadata": {},
   "outputs": [],
   "source": [
    "def frequency_table_visual(frqt):\n",
    "    plt.figure(figsize = (20, 6)) # fix figure size\n",
    "    plt.bar(frqt.iloc[:,0].values, frqt.iloc[:,1].values)\n",
    "    addlabels(frqt.iloc[:,0], frqt.iloc[:,1])\n",
    "    plt.xticks(rotation=360, ha='center') # rotate x label\n",
    "    plt.show()"
   ]
  },
  {
   "cell_type": "code",
   "execution_count": 9,
   "id": "2ad92191",
   "metadata": {},
   "outputs": [],
   "source": [
    "def crosstable_visual(ct, ctp):\n",
    "    ctp.plot(kind='bar', \n",
    "             stacked=True, \n",
    "             colormap='tab20c',\n",
    "             figsize = (20, 12))\n",
    "    plt.legend(loc=\"upper left\", ncol=2)\n",
    "    plt.xlabel(\"\")\n",
    "    plt.ylabel(\"Proportion\")\n",
    "    plt.xticks(rotation=360, ha='center') # rotate x label\n",
    "    for n, x in enumerate([*ct.index.values]):\n",
    "        for (proportion, count, y_loc) in zip(ctp.loc[x],\n",
    "                                          ct.loc[x],\n",
    "                                          ctp.loc[x].cumsum()):\n",
    "            plt.text(x=n -0.1,\n",
    "                 y=(y_loc - proportion) + (proportion / 2),\n",
    "                 s=f'{count}\\n({np.round(proportion * 100, 1)}%)', \n",
    "                 color=\"black\",\n",
    "                 fontsize=12,\n",
    "                 fontweight=\"bold\")\n",
    "\n",
    "plt.show()"
   ]
  },
  {
   "cell_type": "code",
   "execution_count": 1,
   "id": "149bb83c",
   "metadata": {},
   "outputs": [],
   "source": [
    "def crosstable_visual_notext(ct, ctp):\n",
    "    ctp.plot(kind='bar', \n",
    "             stacked=True, \n",
    "             colormap='tab20c',\n",
    "             figsize = (20, 12))\n",
    "    plt.legend(loc=\"upper left\", ncol=2)\n",
    "    plt.xlabel(\"\")\n",
    "    plt.ylabel(\"Proportion\")\n",
    "    plt.xticks(rotation=360, ha='center') # rotate x label\n",
    "    plt.show()"
   ]
  },
  {
   "cell_type": "code",
   "execution_count": null,
   "id": "05017620",
   "metadata": {},
   "outputs": [],
   "source": []
  }
 ],
 "metadata": {
  "kernelspec": {
   "display_name": "Python 3 (ipykernel)",
   "language": "python",
   "name": "python3"
  },
  "language_info": {
   "codemirror_mode": {
    "name": "ipython",
    "version": 3
   },
   "file_extension": ".py",
   "mimetype": "text/x-python",
   "name": "python",
   "nbconvert_exporter": "python",
   "pygments_lexer": "ipython3",
   "version": "3.8.3"
  }
 },
 "nbformat": 4,
 "nbformat_minor": 5
}
