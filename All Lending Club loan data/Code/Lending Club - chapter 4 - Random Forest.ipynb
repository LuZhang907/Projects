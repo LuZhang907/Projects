{
 "cells": [
  {
   "cell_type": "markdown",
   "id": "af1a2b66",
   "metadata": {},
   "source": [
    "<a id=\"0\"></a> <br>\n",
    " # Table of Contents  \n",
    "    \n",
    " 1. [Data Preprocessing](#2) \n",
    " 1. [Modeling Fitting and Evaluation](#3) \n",
    "    1. [ROC_AUC Curve](#4)\n",
    "    1. [Feature Importance](#5)\n",
    "    1. [Confusion Matrix](#6)\n",
    "    1. [ROC Curve](#7)\n",
    "    1. [Plot of Precision and Recall Versus the Decision Threshold](#8)"
   ]
  },
  {
   "cell_type": "markdown",
   "id": "a2cfe5d1",
   "metadata": {},
   "source": [
    "<a id=\"2\"></a> <br>\n",
    " ## Package Set up and Data Input"
   ]
  },
  {
   "cell_type": "code",
   "execution_count": 1,
   "id": "c0d01d17",
   "metadata": {
    "scrolled": true
   },
   "outputs": [],
   "source": [
    "import os\n",
    "import pandas as pd\n",
    "import numpy as np\n",
    "\n",
    "from sklearn.preprocessing import OneHotEncoder, StandardScaler\n",
    "from sklearn.model_selection import train_test_split\n",
    "from sklearn.pipeline import Pipeline\n",
    "from sklearn.compose import ColumnTransformer\n",
    "from sklearn.ensemble import RandomForestClassifier\n",
    "from sklearn.metrics import roc_auc_score,  roc_curve\n",
    "from sklearn.metrics import precision_recall_curve\n",
    "from sklearn import metrics\n",
    "from sklearn.metrics import classification_report\n",
    "\n",
    "from sklearn.model_selection import cross_val_score\n",
    "\n",
    "#import matplotlib.pyplot as plt\n",
    "#bimport seaborn as sns\n",
    "\n",
    "%run functions.ipynb"
   ]
  },
  {
   "cell_type": "code",
   "execution_count": 2,
   "id": "578adad2",
   "metadata": {
    "scrolled": false
   },
   "outputs": [
    {
     "data": {
      "text/plain": [
       "term                    0\n",
       "grade                   0\n",
       "emp_length              0\n",
       "home_ownership          0\n",
       "verification_status     0\n",
       "purpose                 0\n",
       "addr_state              0\n",
       "initial_list_status     0\n",
       "application_type        0\n",
       "loan_amnt               0\n",
       "int_rate                0\n",
       "installment             0\n",
       "annual_inc              0\n",
       "dti                     0\n",
       "open_acc                0\n",
       "pub_rec                 0\n",
       "revol_util              0\n",
       "total_acc               0\n",
       "mort_acc                0\n",
       "pub_rec_bankruptcies    0\n",
       "last_fico_range_low     0\n",
       "last_fico_range_high    0\n",
       "loan_status             0\n",
       "dtype: int64"
      ]
     },
     "execution_count": 2,
     "metadata": {},
     "output_type": "execute_result"
    }
   ],
   "source": [
    "data = pd.read_csv(\"../Data/data_selected_undersampled.csv\")\n",
    "data = pd.DataFrame(data)\n",
    "data = data.dropna() # drop na\n",
    "data.isnull().sum() # check the na"
   ]
  },
  {
   "cell_type": "code",
   "execution_count": 3,
   "id": "48f4632f",
   "metadata": {
    "scrolled": false
   },
   "outputs": [
    {
     "data": {
      "text/plain": [
       "0    198560\n",
       "1    198560\n",
       "Name: loan_status, dtype: int64"
      ]
     },
     "execution_count": 3,
     "metadata": {},
     "output_type": "execute_result"
    }
   ],
   "source": [
    "data[\"loan_status\"].value_counts() # 1 charge off, 0 - fully paid "
   ]
  },
  {
   "cell_type": "markdown",
   "id": "f757d850",
   "metadata": {},
   "source": [
    "<a id=\"2\"></a> <br>\n",
    "## Data Preprocessing"
   ]
  },
  {
   "cell_type": "code",
   "execution_count": 4,
   "id": "9a133ffd",
   "metadata": {
    "scrolled": true
   },
   "outputs": [],
   "source": [
    "y = data.loan_status\n",
    "X = data.drop([\"loan_status\"], axis =1)\n",
    "\n",
    "X_train, X_test, y_train, y_test = train_test_split(X, y, random_state = 666, test_size = 0.25, shuffle = True)"
   ]
  },
  {
   "cell_type": "code",
   "execution_count": 5,
   "id": "53662a46",
   "metadata": {
    "scrolled": false
   },
   "outputs": [
    {
     "data": {
      "text/plain": [
       "1    148973\n",
       "0    148867\n",
       "Name: loan_status, dtype: int64"
      ]
     },
     "execution_count": 5,
     "metadata": {},
     "output_type": "execute_result"
    }
   ],
   "source": [
    "y_train.value_counts()"
   ]
  },
  {
   "cell_type": "code",
   "execution_count": 6,
   "id": "768f3d6b",
   "metadata": {},
   "outputs": [
    {
     "data": {
      "text/plain": [
       "0    49693\n",
       "1    49587\n",
       "Name: loan_status, dtype: int64"
      ]
     },
     "execution_count": 6,
     "metadata": {},
     "output_type": "execute_result"
    }
   ],
   "source": [
    "y_test.value_counts()"
   ]
  },
  {
   "cell_type": "code",
   "execution_count": 7,
   "id": "90ea6873",
   "metadata": {},
   "outputs": [],
   "source": [
    "numeric_features = ['int_rate',\n",
    "       'installment', 'annual_inc', 'dti', 'open_acc', 'pub_rec', 'revol_util',\n",
    "       'total_acc', 'mort_acc', 'pub_rec_bankruptcies', 'last_fico_range_low',\n",
    "       'last_fico_range_high']\n",
    "categorical_features = ['term', 'grade', 'emp_length',\n",
    "       'home_ownership', 'verification_status', 'purpose', 'addr_state',\n",
    "       'initial_list_status', 'application_type']"
   ]
  },
  {
   "cell_type": "code",
   "execution_count": 8,
   "id": "c624b6bf",
   "metadata": {},
   "outputs": [],
   "source": [
    "categorical_transformer = Pipeline(steps =[\n",
    "    ('onehot',OneHotEncoder(drop = \"first\"))\n",
    "])\n",
    "\n",
    "numeric_transformer = Pipeline(steps =[\n",
    "    (\"scale\", StandardScaler())\n",
    "])\n",
    "\n",
    "preprocessor = ColumnTransformer(\n",
    "    transformers = [\n",
    "        ('num', numeric_transformer, numeric_features),\n",
    "        ('cat', categorical_transformer, categorical_features)\n",
    "    ]\n",
    ")\n"
   ]
  },
  {
   "cell_type": "code",
   "execution_count": 9,
   "id": "282d0895",
   "metadata": {},
   "outputs": [],
   "source": [
    "clf = RandomForestClassifier(n_estimators = 100, max_depth = 10, random_state = 666) \n",
    "pipeline = Pipeline(steps = [\n",
    "    (\"preprocessor\", preprocessor),\n",
    "    (\"random forest\", clf)\n",
    "])"
   ]
  },
  {
   "cell_type": "markdown",
   "id": "b3c05730",
   "metadata": {},
   "source": [
    "<a id=\"3\"></a> <br>\n",
    "## Model fitting and Evaluation"
   ]
  },
  {
   "cell_type": "code",
   "execution_count": 10,
   "id": "8eaf6307",
   "metadata": {},
   "outputs": [],
   "source": [
    "fitted_pipeline = pipeline.fit(X_train, y_train)"
   ]
  },
  {
   "cell_type": "markdown",
   "id": "c109b39e",
   "metadata": {},
   "source": [
    "<a id=\"4\"></a> <br>\n",
    "### ROC_AUC score"
   ]
  },
  {
   "cell_type": "code",
   "execution_count": 11,
   "id": "7483d95a",
   "metadata": {},
   "outputs": [],
   "source": [
    "y_train_pred = fitted_pipeline.predict(X_train)\n",
    "y_test_pred = fitted_pipeline.predict(X_test)\n",
    "\n",
    "\n",
    "train_auc = roc_auc_score(y_train, y_train_pred)\n",
    "test_auc = roc_auc_score(y_test, y_test_pred)"
   ]
  },
  {
   "cell_type": "code",
   "execution_count": 12,
   "id": "eae714ea",
   "metadata": {
    "scrolled": true
   },
   "outputs": [
    {
     "name": "stdout",
     "output_type": "stream",
     "text": [
      "train_auc:  0.8947 test_auc:  0.8928\n"
     ]
    }
   ],
   "source": [
    "print(\"train_auc: \", round(train_auc,4),\"test_auc: \", round(test_auc,4))"
   ]
  },
  {
   "cell_type": "markdown",
   "id": "b87bae80",
   "metadata": {},
   "source": [
    "<a id=\"5\"></a> <br>\n",
    "### Feature importance"
   ]
  },
  {
   "cell_type": "code",
   "execution_count": 13,
   "id": "f386a8d4",
   "metadata": {},
   "outputs": [],
   "source": [
    "cat_onehot = pipeline.named_steps['preprocessor'].named_transformers_['cat'].named_steps['onehot'].get_feature_names_out(input_features = categorical_features)\n",
    "col_names = list(numeric_features)+list(cat_onehot)\n",
    "all_importance = np.hstack((clf.feature_importances_))\n",
    "feature_importance = pd.DataFrame({'features':col_names,'importance':all_importance,})"
   ]
  },
  {
   "cell_type": "code",
   "execution_count": 14,
   "id": "6e9c6ef1",
   "metadata": {
    "scrolled": false
   },
   "outputs": [
    {
     "data": {
      "text/html": [
       "<div>\n",
       "<style scoped>\n",
       "    .dataframe tbody tr th:only-of-type {\n",
       "        vertical-align: middle;\n",
       "    }\n",
       "\n",
       "    .dataframe tbody tr th {\n",
       "        vertical-align: top;\n",
       "    }\n",
       "\n",
       "    .dataframe thead th {\n",
       "        text-align: right;\n",
       "    }\n",
       "</style>\n",
       "<table border=\"1\" class=\"dataframe\">\n",
       "  <thead>\n",
       "    <tr style=\"text-align: right;\">\n",
       "      <th></th>\n",
       "      <th>features</th>\n",
       "      <th>importance</th>\n",
       "    </tr>\n",
       "  </thead>\n",
       "  <tbody>\n",
       "    <tr>\n",
       "      <th>11</th>\n",
       "      <td>last_fico_range_high</td>\n",
       "      <td>4.636236e-01</td>\n",
       "    </tr>\n",
       "    <tr>\n",
       "      <th>10</th>\n",
       "      <td>last_fico_range_low</td>\n",
       "      <td>4.350873e-01</td>\n",
       "    </tr>\n",
       "    <tr>\n",
       "      <th>0</th>\n",
       "      <td>int_rate</td>\n",
       "      <td>3.055237e-02</td>\n",
       "    </tr>\n",
       "    <tr>\n",
       "      <th>12</th>\n",
       "      <td>term_ 60 months</td>\n",
       "      <td>1.854408e-02</td>\n",
       "    </tr>\n",
       "    <tr>\n",
       "      <th>17</th>\n",
       "      <td>grade_E</td>\n",
       "      <td>6.744234e-03</td>\n",
       "    </tr>\n",
       "    <tr>\n",
       "      <th>...</th>\n",
       "      <td>...</td>\n",
       "      <td>...</td>\n",
       "    </tr>\n",
       "    <tr>\n",
       "      <th>60</th>\n",
       "      <td>addr_state_ID</td>\n",
       "      <td>1.619622e-05</td>\n",
       "    </tr>\n",
       "    <tr>\n",
       "      <th>75</th>\n",
       "      <td>addr_state_ND</td>\n",
       "      <td>1.317988e-05</td>\n",
       "    </tr>\n",
       "    <tr>\n",
       "      <th>13</th>\n",
       "      <td>term_36 months</td>\n",
       "      <td>2.871476e-06</td>\n",
       "    </tr>\n",
       "    <tr>\n",
       "      <th>31</th>\n",
       "      <td>home_ownership_OTHER</td>\n",
       "      <td>2.871515e-07</td>\n",
       "    </tr>\n",
       "    <tr>\n",
       "      <th>59</th>\n",
       "      <td>addr_state_IA</td>\n",
       "      <td>0.000000e+00</td>\n",
       "    </tr>\n",
       "  </tbody>\n",
       "</table>\n",
       "<p>100 rows × 2 columns</p>\n",
       "</div>"
      ],
      "text/plain": [
       "                features    importance\n",
       "11  last_fico_range_high  4.636236e-01\n",
       "10   last_fico_range_low  4.350873e-01\n",
       "0               int_rate  3.055237e-02\n",
       "12       term_ 60 months  1.854408e-02\n",
       "17               grade_E  6.744234e-03\n",
       "..                   ...           ...\n",
       "60         addr_state_ID  1.619622e-05\n",
       "75         addr_state_ND  1.317988e-05\n",
       "13        term_36 months  2.871476e-06\n",
       "31  home_ownership_OTHER  2.871515e-07\n",
       "59         addr_state_IA  0.000000e+00\n",
       "\n",
       "[100 rows x 2 columns]"
      ]
     },
     "execution_count": 14,
     "metadata": {},
     "output_type": "execute_result"
    }
   ],
   "source": [
    "feature_importance.sort_values(by =\"importance\", ascending = False)"
   ]
  },
  {
   "cell_type": "markdown",
   "id": "a44804a1",
   "metadata": {},
   "source": [
    "<a id=\"6\"></a> <br>\n",
    "### Confusion Matrix"
   ]
  },
  {
   "cell_type": "code",
   "execution_count": 15,
   "id": "75107419",
   "metadata": {},
   "outputs": [
    {
     "data": {
      "text/plain": [
       "array([[43053,  6640],\n",
       "       [ 4006, 45581]])"
      ]
     },
     "execution_count": 15,
     "metadata": {},
     "output_type": "execute_result"
    }
   ],
   "source": [
    "cnf_matrix = metrics.confusion_matrix(y_test,y_test_pred)\n",
    "cnf_matrix"
   ]
  },
  {
   "cell_type": "code",
   "execution_count": 16,
   "id": "69544905",
   "metadata": {
    "scrolled": true
   },
   "outputs": [
    {
     "data": {
      "image/png": "[encoded data removed]",
      "text/plain": [
       "<Figure size 432x288 with 2 Axes>"
      ]
     },
     "metadata": {
      "needs_background": "light"
     },
     "output_type": "display_data"
    }
   ],
   "source": [
    "confusion_metrix_vis(cnf_matrix)"
   ]
  },
  {
   "cell_type": "code",
   "execution_count": 17,
   "id": "18c56d68",
   "metadata": {
    "scrolled": false
   },
   "outputs": [
    {
     "name": "stdout",
     "output_type": "stream",
     "text": [
      "              precision    recall  f1-score   support\n",
      "\n",
      "  Fully Paid       0.91      0.87      0.89     49693\n",
      "  Charge-off       0.87      0.92      0.90     49587\n",
      "\n",
      "    accuracy                           0.89     99280\n",
      "   macro avg       0.89      0.89      0.89     99280\n",
      "weighted avg       0.89      0.89      0.89     99280\n",
      "\n"
     ]
    }
   ],
   "source": [
    "target_names = ['Fully Paid','Charge-off']\n",
    "print(classification_report(y_test, y_test_pred, target_names=target_names))"
   ]
  },
  {
   "cell_type": "markdown",
   "id": "2d3074d7",
   "metadata": {},
   "source": [
    "<a id=\"7\"></a> <br>\n",
    "### ROC_Curve"
   ]
  },
  {
   "cell_type": "code",
   "execution_count": 18,
   "id": "afc73574",
   "metadata": {
    "scrolled": true
   },
   "outputs": [
    {
     "data": {
      "image/png": "[encoded data removed]",
      "text/plain": [
       "<Figure size 432x288 with 1 Axes>"
      ]
     },
     "metadata": {
      "needs_background": "light"
     },
     "output_type": "display_data"
    }
   ],
   "source": [
    "fpr, tpr, thresholds = roc_curve(y_test, y_test_pred)\n",
    "plot_roc_curve(fpr,tpr)"
   ]
  },
  {
   "cell_type": "markdown",
   "id": "c70ec901",
   "metadata": {},
   "source": [
    "<a id=\"8\"></a> <br>\n",
    "### Plot of Precision and Recall Versus the Decision Threshold"
   ]
  },
  {
   "cell_type": "code",
   "execution_count": 19,
   "id": "38d86f08",
   "metadata": {
    "scrolled": true
   },
   "outputs": [
    {
     "data": {
      "image/png": "[encoded data removed]",
      "text/plain": [
       "<Figure size 432x288 with 1 Axes>"
      ]
     },
     "metadata": {
      "needs_background": "light"
     },
     "output_type": "display_data"
    }
   ],
   "source": [
    "precisions, recalls, thresholds = precision_recall_curve(y_test, y_test_pred)\n",
    "plot_precision_recall_vs_threshold(precisions, recalls, thresholds)"
   ]
  },
  {
   "cell_type": "markdown",
   "id": "c62e4c5e",
   "metadata": {},
   "source": [
    "The performance of logistic regression and random forest is comparable when the sample size is large enough.  And, since we have so much data, deep learning may be able to improve performance even more 🤔. However, choosing the most current data to retrain may be the best option."
   ]
  }
 ],
 "metadata": {
  "kernelspec": {
   "display_name": "Python 3 (ipykernel)",
   "language": "python",
   "name": "python3"
  },
  "language_info": {
   "codemirror_mode": {
    "name": "ipython",
    "version": 3
   },
   "file_extension": ".py",
   "mimetype": "text/x-python",
   "name": "python",
   "nbconvert_exporter": "python",
   "pygments_lexer": "ipython3",
   "version": "3.8.3"
  }
 },
 "nbformat": 4,
 "nbformat_minor": 5
}
