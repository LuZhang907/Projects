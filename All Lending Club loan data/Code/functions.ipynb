{
 "cells": [
  {
   "cell_type": "code",
   "execution_count": 5,
   "id": "7cbdd286",
   "metadata": {},
   "outputs": [],
   "source": [
    "from matplotlib import pyplot as plt\n",
    "import seaborn as sns"
   ]
  },
  {
   "cell_type": "code",
   "execution_count": 6,
   "id": "d26106f5",
   "metadata": {},
   "outputs": [],
   "source": [
    "def addlabels(x,y):\n",
    "    for i in range(len(x)):\n",
    "        plt.text(i, y[i], y[i], ha = 'center')"
   ]
  },
  {
   "cell_type": "code",
   "execution_count": 7,
   "id": "4eb958a4",
   "metadata": {},
   "outputs": [],
   "source": [
    "def frequency_table(x,str_name):\n",
    "    freqt = x.value_counts()\n",
    "    freqt = pd.DataFrame(freqt).reset_index()\n",
    "    freqt.columns = [str_name,\"frequency\"]\n",
    "    return freqt"
   ]
  },
  {
   "cell_type": "code",
   "execution_count": 8,
   "id": "0794c806",
   "metadata": {},
   "outputs": [],
   "source": [
    "def frequency_table_visual(frqt):\n",
    "    plt.figure(figsize = (20, 6)) # fix figure size\n",
    "    plt.bar(frqt.iloc[:,0].values, frqt.iloc[:,1].values)\n",
    "    addlabels(frqt.iloc[:,0], frqt.iloc[:,1])\n",
    "    plt.xticks(rotation=360, ha='center') # rotate x label\n",
    "    plt.show()"
   ]
  },
  {
   "cell_type": "code",
   "execution_count": 9,
   "id": "2ad92191",
   "metadata": {},
   "outputs": [],
   "source": [
    "def crosstable_visual(ct, ctp):\n",
    "    ctp.plot(kind='bar', \n",
    "             stacked=True, \n",
    "             colormap='tab20c',\n",
    "             figsize = (20, 12))\n",
    "    plt.legend(loc=\"upper left\", ncol=2)\n",
    "    plt.xlabel(\"\")\n",
    "    plt.ylabel(\"Proportion\")\n",
    "    plt.xticks(rotation=360, ha='center') # rotate x label\n",
    "    for n, x in enumerate([*ct.index.values]):\n",
    "        for (proportion, count, y_loc) in zip(ctp.loc[x],\n",
    "                                          ct.loc[x],\n",
    "                                          ctp.loc[x].cumsum()):\n",
    "            plt.text(x=n -0.1,\n",
    "                 y=(y_loc - proportion) + (proportion / 2),\n",
    "                 s=f'{count}\\n({np.round(proportion * 100, 1)}%)', \n",
    "                 color=\"black\",\n",
    "                 fontsize=12,\n",
    "                 fontweight=\"bold\")\n",
    "\n",
    "plt.show()"
   ]
  },
  {
   "cell_type": "code",
   "execution_count": 1,
   "id": "149bb83c",
   "metadata": {},
   "outputs": [],
   "source": [
    "def crosstable_visual_notext(ct, ctp):\n",
    "    ctp.plot(kind='bar', \n",
    "             stacked=True, \n",
    "             colormap='tab20c',\n",
    "             figsize = (20, 12))\n",
    "    plt.legend(loc=\"upper left\", ncol=2)\n",
    "    plt.xlabel(\"\")\n",
    "    plt.ylabel(\"Proportion\")\n",
    "    plt.xticks(rotation=360, ha='center') # rotate x label\n",
    "    plt.show()"
   ]
  },
  {
   "cell_type": "code",
   "execution_count": 1,
   "id": "05017620",
   "metadata": {},
   "outputs": [],
   "source": [
    "def group_histograms(data, num_col, cat_col):\n",
    "    loan_status_level = data[cat_col].unique()\n",
    "    \n",
    "    plt.figure(figsize=(20,12))\n",
    "    \n",
    "    for status in loan_status_level:\n",
    "        loan_subset = data[data[cat_col]==status]\n",
    "        sns.distplot(loan_subset[num_col],\n",
    "                label = status, hist = True, kde = False,\n",
    "                norm_hist = False,\n",
    "                hist_kws = {\"edgecolor\":\"black\"})\n",
    "    plt.legend(prop={'size': 16}, title =  cat_col )\n",
    "    \n",
    "    plt.title(\"Histogram of \" + num_col +\" by \" +cat_col)\n",
    "    plt.xlabel(num_col)\n",
    "    plt.ylabel('Counts')\n",
    "    plt.show()"
   ]
  },
  {
   "cell_type": "code",
   "execution_count": 2,
   "id": "7b67aeeb",
   "metadata": {},
   "outputs": [],
   "source": [
    "def plot_roc_curve(fpr,tpr,label=None):\n",
    "    plt.plot(fpr,tpr,linewidth=2,label=label)\n",
    "    plt.plot([0,1],[0,1],'k--')\n",
    "    plt.xlabel(\"False Positive Rate (1-specificity)\")\n",
    "    plt.ylabel(\"True Positive Rate (Recall)\")\n",
    "    plt.show()"
   ]
  },
  {
   "cell_type": "code",
   "execution_count": 3,
   "id": "633080aa",
   "metadata": {},
   "outputs": [],
   "source": [
    "def plot_precision_recall_vs_threshold(precisions,recall,thresholds):\n",
    "    plt.plot(thresholds,precisions[:-1],\"b--\",label = \"Precision\")\n",
    "    plt.plot(thresholds, recalls[:-1],\"g-\",label = \"Recall\")\n",
    "    plt.xlabel(\"threshold\")\n",
    "    plt.legend(loc = \"center left\")\n",
    "    plt.show()"
   ]
  },
  {
   "cell_type": "code",
   "execution_count": 4,
   "id": "4c4cc0a1",
   "metadata": {},
   "outputs": [],
   "source": [
    "def confusion_metrix_vis (cnf_matrix):\n",
    "    class_names=[0,1] # name  of classes\n",
    "    fig, ax = plt.subplots()\n",
    "    tick_marks = np.arange(len(class_names))\n",
    "    plt.xticks(tick_marks, class_names)\n",
    "    plt.yticks(tick_marks, class_names)\n",
    "    # create heatmap\n",
    "    sns.heatmap(pd.DataFrame(cnf_matrix), annot=True, cmap=\"YlGnBu\" ,fmt='g')\n",
    "    ax.xaxis.set_label_position(\"top\")\n",
    "    plt.tight_layout()\n",
    "    plt.title('Confusion matrix', y=1.1)\n",
    "    plt.ylabel('Actual label')\n",
    "    plt.xlabel('Predicted label')"
   ]
  },
  {
   "cell_type": "code",
   "execution_count": null,
   "id": "2e0b571a",
   "metadata": {},
   "outputs": [],
   "source": []
  }
 ],
 "metadata": {
  "kernelspec": {
   "display_name": "Python 3 (ipykernel)",
   "language": "python",
   "name": "python3"
  },
  "language_info": {
   "codemirror_mode": {
    "name": "ipython",
    "version": 3
   },
   "file_extension": ".py",
   "mimetype": "text/x-python",
   "name": "python",
   "nbconvert_exporter": "python",
   "pygments_lexer": "ipython3",
   "version": "3.8.3"
  }
 },
 "nbformat": 4,
 "nbformat_minor": 5
}
