{
 "cells": [
  {
   "cell_type": "markdown",
   "id": "c8843cf7",
   "metadata": {},
   "source": [
    "The data context and description presented here were gathered by https://www.kaggle.com/code/faressayah/lending-club-loan-defaulters-prediction"
   ]
  },
  {
   "cell_type": "markdown",
   "id": "8a4d2466",
   "metadata": {},
   "source": [
    "## ⚡️Business Background and Objectives\n",
    "\n",
    "San Francisco-based LendingClub offers peer-to-peer loans. It was the first peer-to-peer lender to register its loans as securities with the SEC and provide secondary market trading. The largest peer-to-peer lending platform is LendingClub.\n",
    "\n",
    "We can learn how EDA and Machine Learning tackle actual business challenges by solving this case study. This case study will also teach us about risk analytics in banking and financial services and how data is utilized to reduce client loan risk.\n",
    "\n",
    "In your role at LendingClub, you lend various loans to urban customers. The company must approve loan applications depending on the applicant's profile. The bank's decision carries two risks:\n",
    "\n",
    "* If the applicant will repay the loan, not approving it costs the company business.\n",
    "* If the applicant is likely to default, accepting the loan may cost the company money.\n",
    "\n",
    "Data about past loan applicants and ‘defaulted’ status is provided. Identifying trends that indicate a person is likely to default can be used to deny the loan, reduce the amount, lend to risky applicants at a higher interest rate, etc.\n",
    "\n",
    "When someone requests for a loan, the corporation may make two decisions:\n",
    "\n",
    "* Accepted loan: If the corporation approves the loan, three situations are possible:\n",
    "   - Fully paid: Applicant paid loan principle and interest.\n",
    "   - Current: Applicant is paying instalments, thus loan tenure is not yet full. Such candidates are not 'defaulted'.\n",
    "   - Charged-off: Applicant has defaulted on loan due to late payments.\n",
    "* Loan rejected: The corporation denied the loan (because the candidate did not match conditions). The company does not have a transactional history of those applicants because the loan was declined, hence this data is not available.\n",
    "\n",
    "LendingClub is the largest online loan marketplace for personal, commercial, and medical loans. Online interfaces allow borrowers to get lower-interest loans quickly. Like other lending organizations, lending to ‘risky’ candidates causes the highest credit loss. The lender loses credit when the borrower defaults or flees. Thus, lenders lose the most from defaulting borrowers. The 'charged-off' clients are the 'defaulters'.\n",
    "If problematic loan applicants can be identified, credit loss can be reduced. This case study uses EDA and machine learning to identify such applications. Thus, the organization seeks to identify loan default drivers, or variables that strongly predict default. The corporation might use this knowledge for portfolio and risk evaluation."
   ]
  },
  {
   "cell_type": "markdown",
   "id": "78e887aa",
   "metadata": {},
   "source": [
    "## 📊Data Describtion"
   ]
  },
  {
   "cell_type": "markdown",
   "id": "9a1d7472",
   "metadata": {},
   "source": [
    "| | Variable | Description|\n",
    "| --- | --- | --- | \n",
    "| 0 | **loan_status** | Current status of the loan |\n",
    "| 1 | loan_amnt | The listed amont of the loan applied for by the borrower | \n",
    "| 2 | term | The number of payments on the loan. Vlaues are in month |\n",
    "| 3 | int_rate | Interest rate on the loan|\n",
    "| 4 | installment | The monthly payment owed by the borrower if the loan orginates |\n",
    "| 5 | grade | LC assigned loan grade |\n",
    "| 6 | sub_grade | LC assigned loan subgrade |\n",
    "| 7 | emp_title | The job title supplied by the Borrower when applying for the loan|\n",
    "| 8 | emp_length | Employment length in years|\n",
    "| 9 | home_ownership | The home ownership status provided by the borrower during registration or obtained from the credit report |\n",
    "| 10 | annual_inc | The self-reported annual income provided by the borrower during registration|\n",
    "| 11 | verification_status| Indicates if income was verified by LC, not verfied, or if the income source was verified |\n",
    "| 12 | loan_status | Current status of the loan |\n",
    "| 13 | purpose | A category provided by the borrower for the loan request |\n",
    "| 14 | title | The loan title provided by the borrower |\n",
    "| 15 | addr_state | The state provide by the borrower in the loan application |\n",
    "| 16 | dti | A ratio calculated using the borrower's total monthly debt payments on the total debt obligations, excluding mortgage and the requested LC loan, divided by the borrower's self-reported monthly income |\n",
    "| 17 | title | The loan title provided by the borrower |\n",
    "| 18 | open_acc | The number of open credit lines in the borrower's credit file |\n",
    "| 19 | pub_rec | Number of derogatory public records|\n",
    "| 20 | revol_util | Revolving line utilization rate, or the amount of credit the borrower is using relative to all available revolving credit |\n",
    "| 21 | total_acc | The total number of credit lines currently in the borrower's credit file|\n",
    "| 22 | initial_list_status | The initial listing status of the loan |\n",
    "| 23 | application_type | Indicates whether the loan is individual application or joint application with two co-borrowers |\n",
    "| 24 | mort_acc | Number of mortgage accounts |\n",
    "| 25 | pub_rec_bankrupticies | number of public record bankrupticies |\n",
    "| 26 | last_fico_range_low* | The lowest possible FICO credit score obtained during the most recent evaluation of a person's creditworthiness |\n",
    "| 27 | last_fico_range_high* | The highest possible FICO credit score obtained during the most recent evaluation of a person's creditworthiness |\n",
    " \n",
    "The goal variable in this study is the **loan_status**, which is classified as either \"full paid\" or \"charge-off\". Thus, this analysis is a binary classification problem."
   ]
  },
  {
   "cell_type": "code",
   "execution_count": 46,
   "id": "4cd02a61",
   "metadata": {},
   "outputs": [],
   "source": [
    "import pandas as pd\n",
    "import numpy as np"
   ]
  },
  {
   "cell_type": "code",
   "execution_count": 47,
   "id": "56fa6475",
   "metadata": {},
   "outputs": [
    {
     "name": "stderr",
     "output_type": "stream",
     "text": [
      "/opt/anaconda3/lib/python3.8/site-packages/IPython/core/interactiveshell.py:3444: DtypeWarning: Columns (0,19,49,59,118,129,130,131,134,135,136,139,145,146,147) have mixed types.Specify dtype option on import or set low_memory=False.\n",
      "  exec(code_obj, self.user_global_ns, self.user_ns)\n"
     ]
    }
   ],
   "source": [
    "act = pd.read_csv(\"../Data/accepted_2007_to_2018Q4.csv\")\n",
    "act = pd.DataFrame(act)\n",
    "act = act.iloc[:-2] # remove the last two row"
   ]
  },
  {
   "cell_type": "code",
   "execution_count": null,
   "id": "e9114c64",
   "metadata": {},
   "outputs": [],
   "source": [
    "cols_names = [\"loan_satus\",\"loan_amnt\",\"term\"\n",
    "    \n",
    "]"
   ]
  }
 ],
 "metadata": {
  "kernelspec": {
   "display_name": "Python 3 (ipykernel)",
   "language": "python",
   "name": "python3"
  },
  "language_info": {
   "codemirror_mode": {
    "name": "ipython",
    "version": 3
   },
   "file_extension": ".py",
   "mimetype": "text/x-python",
   "name": "python",
   "nbconvert_exporter": "python",
   "pygments_lexer": "ipython3",
   "version": "3.8.3"
  }
 },
 "nbformat": 4,
 "nbformat_minor": 5
}
