{
 "cells": [
  {
   "cell_type": "code",
   "execution_count": 32,
   "id": "eb0a33f5",
   "metadata": {},
   "outputs": [],
   "source": [
    "import pandas as pd\n",
    "import numpy as np\n",
    "import os\n",
    "from matplotlib import pyplot as plt\n",
    "from scipy.stats import chisquare\n",
    "import seaborn as sns"
   ]
  },
  {
   "cell_type": "markdown",
   "id": "7fec5930",
   "metadata": {},
   "source": [
    "<a id=\"0\"></a> <br>\n",
    " # Table of Contents  \n",
    "1. [EDA](#1)     \n",
    "    1. [Variable Describtions](#7) "
   ]
  },
  {
   "cell_type": "markdown",
   "id": "c64d4349",
   "metadata": {},
   "source": [
    "Inspiration:\n",
    "\n",
    "* Where are mortgages most likely to be approved?\n",
    "* Can you predict mortgage decisions based on the criteria provided here?"
   ]
  },
  {
   "cell_type": "code",
   "execution_count": 2,
   "id": "a3a2199b",
   "metadata": {},
   "outputs": [],
   "source": [
    "dat = pd.read_csv(\"../Data/ny_hmda_2015.csv\")"
   ]
  },
  {
   "cell_type": "code",
   "execution_count": 3,
   "id": "a5092f3b",
   "metadata": {},
   "outputs": [],
   "source": [
    "dat = pd.DataFrame(dat)\n",
    "#dat "
   ]
  },
  {
   "cell_type": "markdown",
   "id": "4c77d4a5",
   "metadata": {},
   "source": [
    "| Varaible| Describtions|\n",
    "| --- | --- | \n",
    "| action_taken_name | name of action taken | \n",
    "| agency_abbr | abbriation of agency name | \n",
    "| applicant_ethnicity_name | ethnicity of applicant |\n",
    "| applicant_income_000s | applicant incomes | \n",
    "| applicant_race_name_1 | apllicant race |\n",
    "| applicant_sex_name | applicant gender | \n",
    "| hoepa_status_name | HOEPA stauts |\n",
    "| lien_status_name | Lien status |\n",
    "| loan_purpose_name | loan purpose | \n",
    "| hud_median_family_income | HUD median family income |\n",
    "| loan_amount_000s | loan amount |\n",
    "| number_of_1_to_4_family_units | specific data point or statistic that represents the count or quantity of residential housing units designed to accommodate one to four families| \n",
    "| number_of_owner_occupied_units |  It represents the count or quantity of residential housing units within a particular area or dataset that are occupied by their owners rather than rented out | \n",
    "| minority_population | minority population | \n",
    "| population| population |\n",
    "| rate_spread | It's a measure that helps assess and identify disparities in mortgage lending practices | \n",
    "| tract_to_msamd_income |Tract-to-MSA/MD income is the ratio of the median family income in a specific census tract to the median family income in the larger metropolitan or micropolitan statistical area. | "
   ]
  },
  {
   "cell_type": "code",
   "execution_count": 4,
   "id": "95b14d65",
   "metadata": {
    "scrolled": false
   },
   "outputs": [
    {
     "name": "stdout",
     "output_type": "stream",
     "text": [
      "<class 'pandas.core.frame.DataFrame'>\n",
      "RangeIndex: 439654 entries, 0 to 439653\n",
      "Data columns (total 27 columns):\n",
      " #   Column                          Non-Null Count   Dtype  \n",
      "---  ------                          --------------   -----  \n",
      " 0   action_taken_name               439654 non-null  object \n",
      " 1   agency_abbr                     439654 non-null  object \n",
      " 2   applicant_ethnicity_name        439654 non-null  object \n",
      " 3   applicant_income_000s           378651 non-null  float64\n",
      " 4   applicant_race_name_1           439654 non-null  object \n",
      " 5   applicant_sex_name              439654 non-null  object \n",
      " 6   county_code                     438462 non-null  float64\n",
      " 7   county_name                     438462 non-null  object \n",
      " 8   hoepa_status_name               439654 non-null  object \n",
      " 9   lien_status_name                439654 non-null  object \n",
      " 10  loan_purpose_name               439654 non-null  object \n",
      " 11  loan_type_name                  439654 non-null  object \n",
      " 12  msamd                           403279 non-null  float64\n",
      " 13  msamd_name                      403279 non-null  object \n",
      " 14  owner_occupancy_name            439654 non-null  object \n",
      " 15  preapproval_name                439654 non-null  object \n",
      " 16  property_type_name              439654 non-null  object \n",
      " 17  purchaser_type_name             439654 non-null  object \n",
      " 18  state_name                      439654 non-null  object \n",
      " 19  hud_median_family_income        437987 non-null  float64\n",
      " 20  loan_amount_000s                439654 non-null  int64  \n",
      " 21  number_of_1_to_4_family_units   437418 non-null  float64\n",
      " 22  number_of_owner_occupied_units  437605 non-null  float64\n",
      " 23  minority_population             437958 non-null  float64\n",
      " 24  population                      437958 non-null  float64\n",
      " 25  rate_spread                     8740 non-null    float64\n",
      " 26  tract_to_msamd_income           437883 non-null  float64\n",
      "dtypes: float64(10), int64(1), object(16)\n",
      "memory usage: 90.6+ MB\n"
     ]
    }
   ],
   "source": [
    "dat.info()"
   ]
  },
  {
   "cell_type": "markdown",
   "id": "c013308a",
   "metadata": {},
   "source": [
    "### Defined functions"
   ]
  },
  {
   "cell_type": "code",
   "execution_count": 5,
   "id": "195eba82",
   "metadata": {},
   "outputs": [],
   "source": [
    "def addlabels(x,y):\n",
    "    for i in range(len(x)):\n",
    "        plt.text(i, y[i], y[i], ha = 'center')"
   ]
  },
  {
   "cell_type": "code",
   "execution_count": 6,
   "id": "fe98c956",
   "metadata": {},
   "outputs": [],
   "source": [
    "def frequency_table(x,str_name):\n",
    "    freqt = x.value_counts()\n",
    "    freqt = pd.DataFrame(freqt).reset_index()\n",
    "    freqt.columns = [str_name,\"frequency\"]\n",
    "    return freqt"
   ]
  },
  {
   "cell_type": "code",
   "execution_count": 21,
   "id": "bea77268",
   "metadata": {},
   "outputs": [],
   "source": [
    "def frequency_table_visual(frqt):\n",
    "    plt.figure(figsize = (20, 6)) # fix figure size\n",
    "    plt.bar(frqt.iloc[:,0].values, frqt.iloc[:,1].values)\n",
    "    addlabels(frqt.iloc[:,0], frqt.iloc[:,1])\n",
    "    plt.xticks(rotation=360, ha='center') # rotate x label\n",
    "    plt.show()"
   ]
  },
  {
   "cell_type": "code",
   "execution_count": 8,
   "id": "b605f2f2",
   "metadata": {},
   "outputs": [],
   "source": [
    "def crosstable_visual(ct, ctp):\n",
    "    ctp.plot(kind='bar', \n",
    "             stacked=True, \n",
    "             colormap='tab20c',\n",
    "             figsize = (20, 12))\n",
    "    plt.legend(loc=\"upper left\", ncol=2)\n",
    "    plt.xlabel(\"\")\n",
    "    plt.ylabel(\"Proportion\")\n",
    "    plt.xticks(rotation=360, ha='center') # rotate x label\n",
    "    for n, x in enumerate([*ct.index.values]):\n",
    "        for (proportion, count, y_loc) in zip(ctp.loc[x],\n",
    "                                          ct.loc[x],\n",
    "                                          ctp.loc[x].cumsum()):\n",
    "            plt.text(x=n -0.1,\n",
    "                 y=(y_loc - proportion) + (proportion / 2),\n",
    "                 s=f'{count}\\n({np.round(proportion * 100, 1)}%)', \n",
    "                 color=\"black\",\n",
    "                 fontsize=12,\n",
    "                 fontweight=\"bold\")\n",
    "\n",
    "plt.show()"
   ]
  },
  {
   "cell_type": "markdown",
   "id": "360a5531",
   "metadata": {},
   "source": [
    "<a id=\"1\"></a> \n",
    "## EDA"
   ]
  },
  {
   "cell_type": "markdown",
   "id": "2d5c1e7a",
   "metadata": {},
   "source": [
    "<a id=\"2\"></a> \n",
    "### action_taken_name (target)"
   ]
  },
  {
   "cell_type": "code",
   "execution_count": 9,
   "id": "65e1c8ed",
   "metadata": {
    "scrolled": true
   },
   "outputs": [
    {
     "data": {
      "text/html": [
       "<div>\n",
       "<style scoped>\n",
       "    .dataframe tbody tr th:only-of-type {\n",
       "        vertical-align: middle;\n",
       "    }\n",
       "\n",
       "    .dataframe tbody tr th {\n",
       "        vertical-align: top;\n",
       "    }\n",
       "\n",
       "    .dataframe thead th {\n",
       "        text-align: right;\n",
       "    }\n",
       "</style>\n",
       "<table border=\"1\" class=\"dataframe\">\n",
       "  <thead>\n",
       "    <tr style=\"text-align: right;\">\n",
       "      <th></th>\n",
       "      <th>action_taken_name</th>\n",
       "      <th>frequency</th>\n",
       "    </tr>\n",
       "  </thead>\n",
       "  <tbody>\n",
       "    <tr>\n",
       "      <th>0</th>\n",
       "      <td>Loan originated</td>\n",
       "      <td>228054</td>\n",
       "    </tr>\n",
       "    <tr>\n",
       "      <th>1</th>\n",
       "      <td>Application denied by financial institution</td>\n",
       "      <td>79697</td>\n",
       "    </tr>\n",
       "    <tr>\n",
       "      <th>2</th>\n",
       "      <td>Loan purchased by the institution</td>\n",
       "      <td>61490</td>\n",
       "    </tr>\n",
       "    <tr>\n",
       "      <th>3</th>\n",
       "      <td>Application withdrawn by applicant</td>\n",
       "      <td>39496</td>\n",
       "    </tr>\n",
       "    <tr>\n",
       "      <th>4</th>\n",
       "      <td>File closed for incompleteness</td>\n",
       "      <td>16733</td>\n",
       "    </tr>\n",
       "    <tr>\n",
       "      <th>5</th>\n",
       "      <td>Application approved but not accepted</td>\n",
       "      <td>14180</td>\n",
       "    </tr>\n",
       "    <tr>\n",
       "      <th>6</th>\n",
       "      <td>Preapproval request denied by financial instit...</td>\n",
       "      <td>4</td>\n",
       "    </tr>\n",
       "  </tbody>\n",
       "</table>\n",
       "</div>"
      ],
      "text/plain": [
       "                                   action_taken_name  frequency\n",
       "0                                    Loan originated     228054\n",
       "1        Application denied by financial institution      79697\n",
       "2                  Loan purchased by the institution      61490\n",
       "3                 Application withdrawn by applicant      39496\n",
       "4                     File closed for incompleteness      16733\n",
       "5              Application approved but not accepted      14180\n",
       "6  Preapproval request denied by financial instit...          4"
      ]
     },
     "execution_count": 9,
     "metadata": {},
     "output_type": "execute_result"
    }
   ],
   "source": [
    "freqt = frequency_table(dat[\"action_taken_name\"],\"action_taken_name\")\n",
    "freqt"
   ]
  },
  {
   "cell_type": "code",
   "execution_count": 22,
   "id": "0512b9a1",
   "metadata": {
    "scrolled": true
   },
   "outputs": [
    {
     "data": {
      "image/png": "[encoded data removed]",
      "text/plain": [
       "<Figure size 1440x432 with 1 Axes>"
      ]
     },
     "metadata": {
      "needs_background": "light"
     },
     "output_type": "display_data"
    }
   ],
   "source": [
    "frequency_table_visual(freqt)"
   ]
  },
  {
   "cell_type": "markdown",
   "id": "2909af5b",
   "metadata": {},
   "source": [
    "We consider binary classification in here, loan originates (1), application denied by financial institution(0)."
   ]
  },
  {
   "cell_type": "code",
   "execution_count": 11,
   "id": "cd8558af",
   "metadata": {},
   "outputs": [],
   "source": [
    "subdat = dat[(dat[\"action_taken_name\"]==\"Loan originated\" )| (dat[\"action_taken_name\"]==\"Application denied by financial institution\")]"
   ]
  },
  {
   "cell_type": "code",
   "execution_count": 12,
   "id": "441d3ed3",
   "metadata": {},
   "outputs": [],
   "source": [
    "feature_cols = ['action_taken_name', \n",
    "            'agency_abbr', \n",
    "            'applicant_ethnicity_name',\n",
    "            'applicant_income_000s', \n",
    "            'applicant_race_name_1', \n",
    "            'applicant_sex_name',\n",
    "            'hoepa_status_name', \n",
    "            'lien_status_name',\n",
    "            'loan_purpose_name', \n",
    "            'loan_type_name', \n",
    "            'msamd',\n",
    "            'owner_occupancy_name', \n",
    "            'preapproval_name', \n",
    "            'property_type_name',\n",
    "            'purchaser_type_name', \n",
    "            'hud_median_family_income',\n",
    "            'loan_amount_000s', \n",
    "            'number_of_1_to_4_family_units',\n",
    "            'number_of_owner_occupied_units',\n",
    "            'tract_to_msamd_income'\n",
    "]"
   ]
  },
  {
   "cell_type": "code",
   "execution_count": 13,
   "id": "344ef9c2",
   "metadata": {},
   "outputs": [],
   "source": [
    "data = subdat[feature_cols]"
   ]
  },
  {
   "cell_type": "markdown",
   "id": "fb2dc444",
   "metadata": {},
   "source": [
    "## Cross Tables for Categorical features\n",
    "* agency_abbr\n",
    "* applicant_ethnicity_name\n",
    "* applicant_race_name_1\n",
    "* applicant_sex_name\n",
    "* hoepa_status_name\n",
    "* lien_status_name\n",
    "* loan_purpose_name\n",
    "* loan_type_name\n",
    "* owner_occupancy_name\n",
    "* preapproval_name\n",
    "* property_type_name\n",
    "* perchaser_type_name"
   ]
  },
  {
   "cell_type": "code",
   "execution_count": 14,
   "id": "0558a9bc",
   "metadata": {},
   "outputs": [
    {
     "data": {
      "text/plain": [
       "Not applicable                   242937\n",
       "Preapproval was not requested     55452\n",
       "Preapproval was requested          9362\n",
       "Name: preapproval_name, dtype: int64"
      ]
     },
     "execution_count": 14,
     "metadata": {},
     "output_type": "execute_result"
    }
   ],
   "source": [
    "data[\"preapproval_name\"].value_counts()"
   ]
  },
  {
   "cell_type": "markdown",
   "id": "77f8d6ce",
   "metadata": {},
   "source": [
    "### agency_abbr vs action_taken"
   ]
  },
  {
   "cell_type": "code",
   "execution_count": 23,
   "id": "36102a98",
   "metadata": {
    "scrolled": true
   },
   "outputs": [
    {
     "data": {
      "image/png": "[encoded data removed]",
      "text/plain": [
       "<Figure size 1440x432 with 1 Axes>"
      ]
     },
     "metadata": {
      "needs_background": "light"
     },
     "output_type": "display_data"
    }
   ],
   "source": [
    "t1 = frequency_table(data[\"agency_abbr\"],\"agency_abbr\")\n",
    "frequency_table_visual(t1)"
   ]
  },
  {
   "cell_type": "code",
   "execution_count": 24,
   "id": "bab70189",
   "metadata": {
    "scrolled": false
   },
   "outputs": [
    {
     "data": {
      "image/png": "[encoded data removed]",
      "text/plain": [
       "<Figure size 1440x864 with 1 Axes>"
      ]
     },
     "metadata": {
      "needs_background": "light"
     },
     "output_type": "display_data"
    }
   ],
   "source": [
    "ctp1 = pd.crosstab(index = data[\"agency_abbr\"], \n",
    "                   columns = data[\"action_taken_name\"],\n",
    "                   normalize = \"index\")\n",
    "ct1 = pd.crosstab(index = data[\"agency_abbr\"], \n",
    "                  columns = data[\"action_taken_name\"])\n",
    "crosstable_visual(ct1,ctp1)"
   ]
  },
  {
   "cell_type": "markdown",
   "id": "66da7417",
   "metadata": {},
   "source": [
    "### applicant_ethnicity_name"
   ]
  },
  {
   "cell_type": "code",
   "execution_count": 25,
   "id": "2a958a25",
   "metadata": {
    "scrolled": false
   },
   "outputs": [
    {
     "data": {
      "image/png": "[encoded data removed]",
      "text/plain": [
       "<Figure size 1440x432 with 1 Axes>"
      ]
     },
     "metadata": {
      "needs_background": "light"
     },
     "output_type": "display_data"
    }
   ],
   "source": [
    "t2 = frequency_table(data[\"applicant_ethnicity_name\"],\"applicant_ethnicity_name\")\n",
    "frequency_table_visual(t2)"
   ]
  },
  {
   "cell_type": "code",
   "execution_count": 26,
   "id": "7116e99f",
   "metadata": {
    "scrolled": false
   },
   "outputs": [
    {
     "name": "stderr",
     "output_type": "stream",
     "text": [
      "/opt/anaconda3/lib/python3.8/site-packages/pandas/core/generic.py:6619: SettingWithCopyWarning: \n",
      "A value is trying to be set on a copy of a slice from a DataFrame\n",
      "\n",
      "See the caveats in the documentation: https://pandas.pydata.org/pandas-docs/stable/user_guide/indexing.html#returning-a-view-versus-a-copy\n",
      "  return self._update_inplace(result)\n"
     ]
    }
   ],
   "source": [
    "data[\"applicant_ethnicity_name\"].replace('Information not provided by applicant in mail, Internet, or telephone application', \n",
    "                                         np.nan, inplace = True)\n",
    "data[\"applicant_ethnicity_name\"].replace('Not applicable', \n",
    "                                         np.nan, inplace = True)"
   ]
  },
  {
   "cell_type": "code",
   "execution_count": 27,
   "id": "13a7a3c1",
   "metadata": {},
   "outputs": [
    {
     "data": {
      "text/plain": [
       "array(['Not Hispanic or Latino', nan, 'Hispanic or Latino'], dtype=object)"
      ]
     },
     "execution_count": 27,
     "metadata": {},
     "output_type": "execute_result"
    }
   ],
   "source": [
    "data[\"applicant_ethnicity_name\"].unique()"
   ]
  },
  {
   "cell_type": "code",
   "execution_count": 28,
   "id": "db90c8d8",
   "metadata": {},
   "outputs": [],
   "source": [
    "ct2 = pd.crosstab(index = data[\"applicant_ethnicity_name\"], columns = data[\"action_taken_name\"])\n",
    "ctp2 = pd.crosstab(index = data[\"applicant_ethnicity_name\"], columns = data[\"action_taken_name\"], normalize = \"index\")"
   ]
  },
  {
   "cell_type": "code",
   "execution_count": 29,
   "id": "d3181258",
   "metadata": {
    "scrolled": false
   },
   "outputs": [
    {
     "data": {
      "image/png": "[encoded data removed]",
      "text/plain": [
       "<Figure size 1440x864 with 1 Axes>"
      ]
     },
     "metadata": {
      "needs_background": "light"
     },
     "output_type": "display_data"
    }
   ],
   "source": [
    "crosstable_visual(ct2,ctp2)"
   ]
  },
  {
   "cell_type": "markdown",
   "id": "bf977cc6",
   "metadata": {},
   "source": [
    "### Numerical Features"
   ]
  },
  {
   "cell_type": "code",
   "execution_count": 42,
   "id": "b0c7d6b6",
   "metadata": {},
   "outputs": [
    {
     "data": {
      "text/html": [
       "<div>\n",
       "<style scoped>\n",
       "    .dataframe tbody tr th:only-of-type {\n",
       "        vertical-align: middle;\n",
       "    }\n",
       "\n",
       "    .dataframe tbody tr th {\n",
       "        vertical-align: top;\n",
       "    }\n",
       "\n",
       "    .dataframe thead th {\n",
       "        text-align: right;\n",
       "    }\n",
       "</style>\n",
       "<table border=\"1\" class=\"dataframe\">\n",
       "  <thead>\n",
       "    <tr style=\"text-align: right;\">\n",
       "      <th></th>\n",
       "      <th>applicant_income_000s</th>\n",
       "      <th>msamd</th>\n",
       "      <th>hud_median_family_income</th>\n",
       "      <th>loan_amount_000s</th>\n",
       "      <th>number_of_1_to_4_family_units</th>\n",
       "      <th>number_of_owner_occupied_units</th>\n",
       "      <th>tract_to_msamd_income</th>\n",
       "    </tr>\n",
       "  </thead>\n",
       "  <tbody>\n",
       "    <tr>\n",
       "      <th>count</th>\n",
       "      <td>284496.000000</td>\n",
       "      <td>279938.000000</td>\n",
       "      <td>306941.000000</td>\n",
       "      <td>307751.000000</td>\n",
       "      <td>306550.000000</td>\n",
       "      <td>306655.000000</td>\n",
       "      <td>306868.000000</td>\n",
       "    </tr>\n",
       "    <tr>\n",
       "      <th>mean</th>\n",
       "      <td>136.774064</td>\n",
       "      <td>32173.944202</td>\n",
       "      <td>77795.497180</td>\n",
       "      <td>332.463121</td>\n",
       "      <td>1528.615661</td>\n",
       "      <td>1225.912403</td>\n",
       "      <td>118.343329</td>\n",
       "    </tr>\n",
       "    <tr>\n",
       "      <th>std</th>\n",
       "      <td>253.020543</td>\n",
       "      <td>9834.853636</td>\n",
       "      <td>16140.612183</td>\n",
       "      <td>1242.702105</td>\n",
       "      <td>793.399343</td>\n",
       "      <td>605.048019</td>\n",
       "      <td>53.169518</td>\n",
       "    </tr>\n",
       "    <tr>\n",
       "      <th>min</th>\n",
       "      <td>1.000000</td>\n",
       "      <td>10580.000000</td>\n",
       "      <td>57200.000000</td>\n",
       "      <td>1.000000</td>\n",
       "      <td>6.000000</td>\n",
       "      <td>2.000000</td>\n",
       "      <td>3.670000</td>\n",
       "    </tr>\n",
       "    <tr>\n",
       "      <th>25%</th>\n",
       "      <td>57.000000</td>\n",
       "      <td>35004.000000</td>\n",
       "      <td>69000.000000</td>\n",
       "      <td>94.000000</td>\n",
       "      <td>988.000000</td>\n",
       "      <td>765.000000</td>\n",
       "      <td>88.709999</td>\n",
       "    </tr>\n",
       "    <tr>\n",
       "      <th>50%</th>\n",
       "      <td>88.000000</td>\n",
       "      <td>35614.000000</td>\n",
       "      <td>71300.000000</td>\n",
       "      <td>197.000000</td>\n",
       "      <td>1541.000000</td>\n",
       "      <td>1207.000000</td>\n",
       "      <td>106.949997</td>\n",
       "    </tr>\n",
       "    <tr>\n",
       "      <th>75%</th>\n",
       "      <td>140.000000</td>\n",
       "      <td>35614.000000</td>\n",
       "      <td>82700.000000</td>\n",
       "      <td>359.000000</td>\n",
       "      <td>2021.000000</td>\n",
       "      <td>1647.000000</td>\n",
       "      <td>132.020004</td>\n",
       "    </tr>\n",
       "    <tr>\n",
       "      <th>max</th>\n",
       "      <td>9999.000000</td>\n",
       "      <td>48060.000000</td>\n",
       "      <td>109000.000000</td>\n",
       "      <td>99999.000000</td>\n",
       "      <td>6345.000000</td>\n",
       "      <td>6454.000000</td>\n",
       "      <td>367.609985</td>\n",
       "    </tr>\n",
       "  </tbody>\n",
       "</table>\n",
       "</div>"
      ],
      "text/plain": [
       "       applicant_income_000s          msamd  hud_median_family_income  \\\n",
       "count          284496.000000  279938.000000             306941.000000   \n",
       "mean              136.774064   32173.944202              77795.497180   \n",
       "std               253.020543    9834.853636              16140.612183   \n",
       "min                 1.000000   10580.000000              57200.000000   \n",
       "25%                57.000000   35004.000000              69000.000000   \n",
       "50%                88.000000   35614.000000              71300.000000   \n",
       "75%               140.000000   35614.000000              82700.000000   \n",
       "max              9999.000000   48060.000000             109000.000000   \n",
       "\n",
       "       loan_amount_000s  number_of_1_to_4_family_units  \\\n",
       "count     307751.000000                  306550.000000   \n",
       "mean         332.463121                    1528.615661   \n",
       "std         1242.702105                     793.399343   \n",
       "min            1.000000                       6.000000   \n",
       "25%           94.000000                     988.000000   \n",
       "50%          197.000000                    1541.000000   \n",
       "75%          359.000000                    2021.000000   \n",
       "max        99999.000000                    6345.000000   \n",
       "\n",
       "       number_of_owner_occupied_units  tract_to_msamd_income  \n",
       "count                   306655.000000          306868.000000  \n",
       "mean                      1225.912403             118.343329  \n",
       "std                        605.048019              53.169518  \n",
       "min                          2.000000               3.670000  \n",
       "25%                        765.000000              88.709999  \n",
       "50%                       1207.000000             106.949997  \n",
       "75%                       1647.000000             132.020004  \n",
       "max                       6454.000000             367.609985  "
      ]
     },
     "execution_count": 42,
     "metadata": {},
     "output_type": "execute_result"
    }
   ],
   "source": [
    "data.describe()"
   ]
  },
  {
   "cell_type": "code",
   "execution_count": 46,
   "id": "eacd75a7",
   "metadata": {},
   "outputs": [],
   "source": [
    "data = data[data[\"applicant_income_000s\"]<140]\n",
    "data = data[data[\"loan_amount_000s\"]<350]"
   ]
  },
  {
   "cell_type": "code",
   "execution_count": 47,
   "id": "2044388a",
   "metadata": {},
   "outputs": [
    {
     "data": {
      "text/html": [
       "<div>\n",
       "<style scoped>\n",
       "    .dataframe tbody tr th:only-of-type {\n",
       "        vertical-align: middle;\n",
       "    }\n",
       "\n",
       "    .dataframe tbody tr th {\n",
       "        vertical-align: top;\n",
       "    }\n",
       "\n",
       "    .dataframe thead th {\n",
       "        text-align: right;\n",
       "    }\n",
       "</style>\n",
       "<table border=\"1\" class=\"dataframe\">\n",
       "  <thead>\n",
       "    <tr style=\"text-align: right;\">\n",
       "      <th></th>\n",
       "      <th>applicant_income_000s</th>\n",
       "      <th>msamd</th>\n",
       "      <th>hud_median_family_income</th>\n",
       "      <th>loan_amount_000s</th>\n",
       "      <th>number_of_1_to_4_family_units</th>\n",
       "      <th>number_of_owner_occupied_units</th>\n",
       "      <th>tract_to_msamd_income</th>\n",
       "    </tr>\n",
       "  </thead>\n",
       "  <tbody>\n",
       "    <tr>\n",
       "      <th>count</th>\n",
       "      <td>184770.000000</td>\n",
       "      <td>160985.000000</td>\n",
       "      <td>184109.000000</td>\n",
       "      <td>184770.000000</td>\n",
       "      <td>183949.000000</td>\n",
       "      <td>184004.000000</td>\n",
       "      <td>184077.000000</td>\n",
       "    </tr>\n",
       "    <tr>\n",
       "      <th>mean</th>\n",
       "      <td>70.284640</td>\n",
       "      <td>31068.866441</td>\n",
       "      <td>75745.244393</td>\n",
       "      <td>139.272550</td>\n",
       "      <td>1661.629463</td>\n",
       "      <td>1278.873274</td>\n",
       "      <td>107.043560</td>\n",
       "    </tr>\n",
       "    <tr>\n",
       "      <th>std</th>\n",
       "      <td>30.255093</td>\n",
       "      <td>11451.974551</td>\n",
       "      <td>15377.688643</td>\n",
       "      <td>93.894449</td>\n",
       "      <td>705.919365</td>\n",
       "      <td>571.687382</td>\n",
       "      <td>33.917399</td>\n",
       "    </tr>\n",
       "    <tr>\n",
       "      <th>min</th>\n",
       "      <td>1.000000</td>\n",
       "      <td>10580.000000</td>\n",
       "      <td>57200.000000</td>\n",
       "      <td>1.000000</td>\n",
       "      <td>7.000000</td>\n",
       "      <td>2.000000</td>\n",
       "      <td>3.670000</td>\n",
       "    </tr>\n",
       "    <tr>\n",
       "      <th>25%</th>\n",
       "      <td>47.000000</td>\n",
       "      <td>20524.000000</td>\n",
       "      <td>68500.000000</td>\n",
       "      <td>66.000000</td>\n",
       "      <td>1196.000000</td>\n",
       "      <td>859.000000</td>\n",
       "      <td>87.339996</td>\n",
       "    </tr>\n",
       "    <tr>\n",
       "      <th>50%</th>\n",
       "      <td>67.000000</td>\n",
       "      <td>35614.000000</td>\n",
       "      <td>69700.000000</td>\n",
       "      <td>125.000000</td>\n",
       "      <td>1656.000000</td>\n",
       "      <td>1251.000000</td>\n",
       "      <td>103.370003</td>\n",
       "    </tr>\n",
       "    <tr>\n",
       "      <th>75%</th>\n",
       "      <td>92.000000</td>\n",
       "      <td>40380.000000</td>\n",
       "      <td>82700.000000</td>\n",
       "      <td>206.000000</td>\n",
       "      <td>2103.000000</td>\n",
       "      <td>1669.000000</td>\n",
       "      <td>122.220001</td>\n",
       "    </tr>\n",
       "    <tr>\n",
       "      <th>max</th>\n",
       "      <td>139.000000</td>\n",
       "      <td>48060.000000</td>\n",
       "      <td>109000.000000</td>\n",
       "      <td>349.000000</td>\n",
       "      <td>6345.000000</td>\n",
       "      <td>6454.000000</td>\n",
       "      <td>367.609985</td>\n",
       "    </tr>\n",
       "  </tbody>\n",
       "</table>\n",
       "</div>"
      ],
      "text/plain": [
       "       applicant_income_000s          msamd  hud_median_family_income  \\\n",
       "count          184770.000000  160985.000000             184109.000000   \n",
       "mean               70.284640   31068.866441              75745.244393   \n",
       "std                30.255093   11451.974551              15377.688643   \n",
       "min                 1.000000   10580.000000              57200.000000   \n",
       "25%                47.000000   20524.000000              68500.000000   \n",
       "50%                67.000000   35614.000000              69700.000000   \n",
       "75%                92.000000   40380.000000              82700.000000   \n",
       "max               139.000000   48060.000000             109000.000000   \n",
       "\n",
       "       loan_amount_000s  number_of_1_to_4_family_units  \\\n",
       "count     184770.000000                  183949.000000   \n",
       "mean         139.272550                    1661.629463   \n",
       "std           93.894449                     705.919365   \n",
       "min            1.000000                       7.000000   \n",
       "25%           66.000000                    1196.000000   \n",
       "50%          125.000000                    1656.000000   \n",
       "75%          206.000000                    2103.000000   \n",
       "max          349.000000                    6345.000000   \n",
       "\n",
       "       number_of_owner_occupied_units  tract_to_msamd_income  \n",
       "count                   184004.000000          184077.000000  \n",
       "mean                      1278.873274             107.043560  \n",
       "std                        571.687382              33.917399  \n",
       "min                          2.000000               3.670000  \n",
       "25%                        859.000000              87.339996  \n",
       "50%                       1251.000000             103.370003  \n",
       "75%                       1669.000000             122.220001  \n",
       "max                       6454.000000             367.609985  "
      ]
     },
     "execution_count": 47,
     "metadata": {},
     "output_type": "execute_result"
    }
   ],
   "source": [
    "data.describe()"
   ]
  },
  {
   "cell_type": "code",
   "execution_count": null,
   "id": "c2060495",
   "metadata": {},
   "outputs": [],
   "source": [
    "\n",
    "# Extract top five airlines with most flights\n",
    "carrier_flights = pd.Series(flights.groupby('name')['name'].count())\n",
    "carrier_flights = carrier_flights.sort_values(ascending=False)\n",
    "top_five = carrier_flights.index[:5]\n",
    "\n",
    "# Subset to the top 5 airlines\n",
    "top_five_flights = flights[flights['name'].isin(top_five)]"
   ]
  },
  {
   "cell_type": "code",
   "execution_count": 31,
   "id": "065d1ff2",
   "metadata": {},
   "outputs": [
    {
     "data": {
      "text/plain": [
       "array(['Loan originated', 'Application denied by financial institution'],\n",
       "      dtype=object)"
      ]
     },
     "execution_count": 31,
     "metadata": {},
     "output_type": "execute_result"
    }
   ],
   "source": [
    "data[\"action_taken_name\"].unique()"
   ]
  },
  {
   "cell_type": "code",
   "execution_count": null,
   "id": "dcc0b209",
   "metadata": {},
   "outputs": [],
   "source": [
    "figsize(10, 8)\n",
    "\n",
    "# Iterate through each of the five airlines\n",
    "for airline in top_five:\n",
    "    # Subset to the airline\n",
    "    subset = top_five_flights[top_five_flights['name'] == airline]\n",
    "    # Make a histogram with the airline\n",
    "    sns.distplot(subset['arr_delay'], bins = int(180/5), \n",
    "                 label = airline, hist = True, kde = False, \n",
    "                 norm_hist=True, \n",
    "                 hist_kws = {'edgecolor': 'black'})\n",
    "    \n",
    "plt.legend(prop={'size': 16}, title = 'Airline')\n",
    "plt.title('Histogram of Delays by Airline'); plt.xlabel('Delay (min)'); plt.ylabel('Normalized Counts');"
   ]
  },
  {
   "cell_type": "code",
   "execution_count": 48,
   "id": "510f7114",
   "metadata": {},
   "outputs": [
    {
     "name": "stderr",
     "output_type": "stream",
     "text": [
      "/opt/anaconda3/lib/python3.8/site-packages/seaborn/distributions.py:2619: FutureWarning: `distplot` is a deprecated function and will be removed in a future version. Please adapt your code to use either `displot` (a figure-level function with similar flexibility) or `histplot` (an axes-level function for histograms).\n",
      "  warnings.warn(msg, FutureWarning)\n"
     ]
    },
    {
     "data": {
      "text/plain": [
       "<AxesSubplot:xlabel='loan_amount_000s'>"
      ]
     },
     "execution_count": 48,
     "metadata": {},
     "output_type": "execute_result"
    },
    {
     "data": {
      "image/png": "[encoded data removed]",
      "text/plain": [
       "<Figure size 432x288 with 1 Axes>"
      ]
     },
     "metadata": {
      "needs_background": "light"
     },
     "output_type": "display_data"
    }
   ],
   "source": [
    "    sns.distplot(data['loan_amount_000s'], bins = int(180/5), \n",
    "                 label = \"Loan originated\", hist = True, kde = False, \n",
    "                 norm_hist=True, \n",
    "                 hist_kws = {'edgecolor': 'black'})"
   ]
  },
  {
   "cell_type": "code",
   "execution_count": 36,
   "id": "e43a1b64",
   "metadata": {},
   "outputs": [
    {
     "data": {
      "text/plain": [
       "count    307751.000000\n",
       "mean        332.463121\n",
       "std        1242.702105\n",
       "min           1.000000\n",
       "25%          94.000000\n",
       "50%         197.000000\n",
       "75%         359.000000\n",
       "max       99999.000000\n",
       "Name: loan_amount_000s, dtype: float64"
      ]
     },
     "execution_count": 36,
     "metadata": {},
     "output_type": "execute_result"
    }
   ],
   "source": [
    "data['loan_amount_000s'].describe()"
   ]
  },
  {
   "cell_type": "code",
   "execution_count": null,
   "id": "9b4f92ed",
   "metadata": {},
   "outputs": [],
   "source": [
    "# Make a separate list for each airline\n",
    "x1 = list(flights[flights['name'] == 'United Air Lines Inc.']['arr_delay'])\n",
    "x2 = list(flights[flights['name'] == 'JetBlue Airways']['arr_delay'])\n",
    "x3 = list(flights[flights['name'] == 'ExpressJet Airlines Inc.']['arr_delay'])\n",
    "x4 = list(flights[flights['name'] == 'Delta Air Lines Inc.']['arr_delay'])\n",
    "x5 = list(flights[flights['name'] == 'American Airlines Inc.']['arr_delay'])\n",
    "\n",
    "# Assign colors for each airline and the names\n",
    "colors = ['#E69F00', '#56B4E9', '#F0E442', '#009E73', '#D55E00']\n",
    "names = ['United Air Lines Inc.', 'JetBlue Airways', 'ExpressJet Airlines Inc.',\n",
    "         'Delta Air Lines Inc.', 'American Airlines Inc.']"
   ]
  }
 ],
 "metadata": {
  "kernelspec": {
   "display_name": "Python 3 (ipykernel)",
   "language": "python",
   "name": "python3"
  },
  "language_info": {
   "codemirror_mode": {
    "name": "ipython",
    "version": 3
   },
   "file_extension": ".py",
   "mimetype": "text/x-python",
   "name": "python",
   "nbconvert_exporter": "python",
   "pygments_lexer": "ipython3",
   "version": "3.8.3"
  }
 },
 "nbformat": 4,
 "nbformat_minor": 5
}
